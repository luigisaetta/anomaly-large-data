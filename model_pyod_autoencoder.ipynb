{
 "cells": [
  {
   "cell_type": "markdown",
   "id": "0f016dcf",
   "metadata": {},
   "source": [
    "### Model PyOD AutoEncoder"
   ]
  },
  {
   "cell_type": "code",
   "execution_count": 1,
   "id": "51283dc5",
   "metadata": {},
   "outputs": [],
   "source": [
    "import pandas as pd\n",
    "import numpy as np\n",
    "\n",
    "from sklearn.metrics import confusion_matrix, ConfusionMatrixDisplay\n",
    "from sklearn.metrics import roc_auc_score\n",
    "\n",
    "from imblearn.under_sampling import RandomUnderSampler\n",
    "from pyod.models.auto_encoder import AutoEncoder"
   ]
  },
  {
   "cell_type": "code",
   "execution_count": 2,
   "id": "f7e72232",
   "metadata": {},
   "outputs": [],
   "source": [
    "# RESTART POINT\n",
    "\n",
    "orig_train = pd.read_parquet(\"train_augmented.parquet\")"
   ]
  },
  {
   "cell_type": "code",
   "execution_count": 3,
   "id": "ffe8d78e",
   "metadata": {},
   "outputs": [
    {
     "data": {
      "text/plain": [
       "ip                          0\n",
       "app                         0\n",
       "device                      0\n",
       "os                          0\n",
       "channel                     0\n",
       "click_time                  0\n",
       "is_attributed               0\n",
       "hour                        0\n",
       "day                         0\n",
       "ip_app_channel_var_day      0\n",
       "qty                         0\n",
       "ip_app_count                0\n",
       "ip_app_os_count             0\n",
       "qty_var                     0\n",
       "ip_app_os_var               0\n",
       "ip_app_channel_mean_hour    0\n",
       "dtype: int64"
      ]
     },
     "execution_count": 3,
     "metadata": {},
     "output_type": "execute_result"
    }
   ],
   "source": [
    "# handle NaN\n",
    "orig_train.fillna(value=0, inplace=True)\n",
    "\n",
    "orig_train.isna().sum()"
   ]
  },
  {
   "cell_type": "code",
   "execution_count": 4,
   "id": "2c121192",
   "metadata": {},
   "outputs": [
    {
     "name": "stdout",
     "output_type": "stream",
     "text": [
      "Original training samples: 181205812\n",
      "Num. validation samples: 3698078\n"
     ]
    }
   ],
   "source": [
    "TARGET = 'is_attributed'\n",
    "\n",
    "# train, validation split\n",
    "TRAIN_FRAC = 0.98\n",
    "\n",
    "N_TRAIN = int(orig_train.shape[0] * TRAIN_FRAC)\n",
    "\n",
    "# shuffle\n",
    "orig_train = orig_train.sample(frac=1., random_state=12345)\n",
    "\n",
    "df_train = orig_train[:N_TRAIN]\n",
    "df_valid = orig_train[N_TRAIN:]\n",
    "\n",
    "print('Original training samples:', df_train.shape[0])\n",
    "print('Num. validation samples:', df_valid.shape[0])"
   ]
  },
  {
   "cell_type": "code",
   "execution_count": 6,
   "id": "50d468a3",
   "metadata": {},
   "outputs": [],
   "source": [
    "feat = ['ip', 'app', 'device', 'os', 'channel',\n",
    "       'hour', 'day', 'ip_app_channel_var_day', 'qty', 'ip_app_count',\n",
    "       'qty_var', 'ip_app_os_count', 'ip_app_os_var',\n",
    "       'ip_app_channel_mean_hour']\n",
    "\n",
    "# removed ip because it is high card\n",
    "\n",
    "cat_feat = ['app', 'device', 'os', 'channel']\n",
    "\n",
    "x_train = df_train[feat]\n",
    "y_train = df_train[TARGET]\n",
    "\n",
    "x_valid = df_valid[feat]\n",
    "y_valid = df_valid[TARGET]\n",
    "\n",
    "rus = RandomUnderSampler(random_state=0, sampling_strategy=0.1)\n",
    "\n",
    "x_train_resampled, y_train_resampled = rus.fit_resample(x_train, y_train)"
   ]
  },
  {
   "cell_type": "code",
   "execution_count": null,
   "id": "f926a7e0",
   "metadata": {},
   "outputs": [],
   "source": []
  }
 ],
 "metadata": {
  "kernelspec": {
   "display_name": "Python [conda env:mlcpuv1]",
   "language": "python",
   "name": "conda-env-mlcpuv1-py"
  },
  "language_info": {
   "codemirror_mode": {
    "name": "ipython",
    "version": 3
   },
   "file_extension": ".py",
   "mimetype": "text/x-python",
   "name": "python",
   "nbconvert_exporter": "python",
   "pygments_lexer": "ipython3",
   "version": "3.6.11"
  }
 },
 "nbformat": 4,
 "nbformat_minor": 5
}
