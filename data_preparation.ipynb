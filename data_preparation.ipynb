{
 "cells": [
  {
   "cell_type": "code",
   "execution_count": 20,
   "id": "2d315756",
   "metadata": {},
   "outputs": [
    {
     "name": "stdout",
     "output_type": "stream",
     "text": [
      "The autoreload extension is already loaded. To reload it, use:\n",
      "  %reload_ext autoreload\n"
     ]
    }
   ],
   "source": [
    "import gc\n",
    "\n",
    "import pandas as pd\n",
    "import numpy as np\n",
    "import matplotlib.pyplot as plt\n",
    "import seaborn as sns\n",
    "\n",
    "# utility functions \n",
    "from utils import count_unique_values, show_group_stats_viz\n",
    "\n",
    "sns.set()\n",
    "\n",
    "%load_ext autoreload\n",
    "%autoreload"
   ]
  },
  {
   "cell_type": "markdown",
   "id": "58d8ed00",
   "metadata": {},
   "source": [
    "### leggiamo l'intero LARGE dataset"
   ]
  },
  {
   "cell_type": "code",
   "execution_count": 2,
   "id": "0a89073d",
   "metadata": {},
   "outputs": [
    {
     "name": "stdout",
     "output_type": "stream",
     "text": [
      "CPU times: user 1min 28s, sys: 3.6 s, total: 1min 31s\n",
      "Wall time: 3min\n"
     ]
    }
   ],
   "source": [
    "%%time\n",
    "\n",
    "# le colonne che saranno caricate in memoria\n",
    "cols = ['ip', 'app', 'device', 'os', 'channel', 'click_time', 'is_attributed']\n",
    "\n",
    "dtypes = {\n",
    "        'ip'            : 'uint32',\n",
    "        'app'           : 'uint16',\n",
    "        'device'        : 'uint16',\n",
    "        'os'            : 'uint16',\n",
    "        'channel'       : 'uint16',\n",
    "        'is_attributed' : 'uint8',\n",
    "        }\n",
    "\n",
    "# ora leggo tutto\n",
    "orig_train = pd.read_csv('train.csv', dtype=dtypes, usecols=cols)\n",
    "orig_train['click_time'] = pd.to_datetime(orig_train['click_time'])"
   ]
  },
  {
   "cell_type": "code",
   "execution_count": 12,
   "id": "2961b7eb",
   "metadata": {},
   "outputs": [
    {
     "name": "stdout",
     "output_type": "stream",
     "text": [
      "Number of record in dataset: 184903890\n"
     ]
    }
   ],
   "source": [
    "print('Number of record in dataset:', orig_train.shape[0])"
   ]
  },
  {
   "cell_type": "code",
   "execution_count": 21,
   "id": "a6976cd9",
   "metadata": {},
   "outputs": [
    {
     "name": "stdout",
     "output_type": "stream",
     "text": [
      "is_attributed\n",
      "0    184447044\n",
      "1       456846\n",
      "dtype: int64\n"
     ]
    },
    {
     "data": {
      "image/png": "[encoded data removed]",
      "text/plain": [
       "<Figure size 432x288 with 1 Axes>"
      ]
     },
     "metadata": {},
     "output_type": "display_data"
    }
   ],
   "source": [
    "show_group_stats_viz(orig_train, 'is_attributed');"
   ]
  },
  {
   "cell_type": "code",
   "execution_count": 4,
   "id": "9049b153",
   "metadata": {},
   "outputs": [
    {
     "name": "stdout",
     "output_type": "stream",
     "text": [
      "Distinct values for app : 706\n",
      "Distinct values for channel : 202\n",
      "Distinct values for click_time : 259620\n",
      "Distinct values for device : 3475\n",
      "Distinct values for ip : 277396\n",
      "Distinct values for is_attributed : 2\n",
      "Distinct values for os : 800\n",
      "\n",
      "Number of positive samples: 456846\n",
      "Number of negative samples: 184447044\n",
      "Anomalies (before resampling) percentage: 0.2471\n"
     ]
    }
   ],
   "source": [
    "# Alcune statistiche\n",
    "\n",
    "# analizziamo i valori distinti:\n",
    "for col in sorted(cols):\n",
    "    print('Distinct values for', col, ':', orig_train[col].nunique())\n",
    "    \n",
    "# statistiche target\n",
    "stats = orig_train.groupby('is_attributed').count()['ip']\n",
    "\n",
    "n_pos = stats[1]\n",
    "n_neg = stats[0]\n",
    "\n",
    "print()\n",
    "print('Number of positive samples:', n_pos)\n",
    "print('Number of negative samples:', n_neg)\n",
    "print('Anomalies (before resampling) percentage:', round(float(n_pos)*100./float(n_pos + n_neg), 4))"
   ]
  },
  {
   "cell_type": "code",
   "execution_count": 5,
   "id": "32780d7d",
   "metadata": {},
   "outputs": [
    {
     "name": "stdout",
     "output_type": "stream",
     "text": [
      "<class 'pandas.core.frame.DataFrame'>\n",
      "RangeIndex: 184903890 entries, 0 to 184903889\n",
      "Data columns (total 7 columns):\n",
      " #   Column         Dtype         \n",
      "---  ------         -----         \n",
      " 0   ip             uint32        \n",
      " 1   app            uint16        \n",
      " 2   device         uint16        \n",
      " 3   os             uint16        \n",
      " 4   channel        uint16        \n",
      " 5   click_time     datetime64[ns]\n",
      " 6   is_attributed  uint8         \n",
      "dtypes: datetime64[ns](1), uint16(4), uint32(1), uint8(1)\n",
      "memory usage: 3.6 GB\n"
     ]
    }
   ],
   "source": [
    "orig_train.info()"
   ]
  },
  {
   "cell_type": "markdown",
   "id": "0453840a",
   "metadata": {},
   "source": [
    "### feature engineering"
   ]
  },
  {
   "cell_type": "code",
   "execution_count": 6,
   "id": "0297b116",
   "metadata": {},
   "outputs": [],
   "source": [
    "# adding new features\n",
    "\n",
    "def add_new_features(df):\n",
    "    df['click_time'] = pd.to_datetime(df['click_time'])\n",
    "    df['hour'] = pd.to_datetime(df.click_time).dt.hour.astype('uint8')\n",
    "    df['day'] = pd.to_datetime(df.click_time).dt.day.astype('uint8')\n",
    "    \n",
    "    print('group by : ip_app_channel_var_day')\n",
    "    gp = df[['ip','app', 'channel', 'day']].groupby(by=['ip', 'app', 'channel'])[['day']].var().reset_index().rename(index=str, columns={'day': 'ip_app_channel_var_day'})\n",
    "    df = df.merge(gp, on=['ip','app', 'channel'], how='left')\n",
    "    del gp\n",
    "    gc.collect()\n",
    "    \n",
    "    print('group by : ip_day_hour_count_chl')\n",
    "    gp = df[['ip','day','hour','channel']].groupby(by=['ip','day','hour'])[['channel']].count().reset_index().rename(index=str, columns={'channel': 'qty'})\n",
    "    df = df.merge(gp, on=['ip','day','hour'], how='left')\n",
    "    del gp\n",
    "    gc.collect()\n",
    "    \n",
    "    print('group by : ip_app_count_chl')\n",
    "    gp = df[['ip','app', 'channel']].groupby(by=['ip', 'app'])[['channel']].count().reset_index().rename(index=str, columns={'channel': 'ip_app_count'})\n",
    "    df = df.merge(gp, on=['ip','app'], how='left')\n",
    "    del gp\n",
    "    gc.collect()\n",
    "    \n",
    "    print('group by : ip_app_os_count_chl')\n",
    "    gp = df[['ip','app', 'os', 'channel']].groupby(by=['ip', 'app', 'os'])[['channel']].count().reset_index().rename(index=str, columns={'channel': 'ip_app_os_count'})\n",
    "    df = df.merge(gp, on=['ip','app', 'os'], how='left')\n",
    "    del gp\n",
    "    gc.collect()\n",
    "    \n",
    "    print('group by : ip_day_chl_var_hour')\n",
    "    gp = df[['ip','day','hour','channel']].groupby(by=['ip','day','channel'])[['hour']].var().reset_index().rename(index=str, columns={'hour': 'qty_var'})\n",
    "    df = df.merge(gp, on=['ip','day','channel'], how='left')\n",
    "    del gp\n",
    "    gc.collect()\n",
    "    \n",
    "    print('group by : ip_app_os_var_hour')\n",
    "    gp = df[['ip','app', 'os', 'hour']].groupby(by=['ip', 'app', 'os'])[['hour']].var().reset_index().rename(index=str, columns={'hour': 'ip_app_os_var'})\n",
    "    df = df.merge(gp, on=['ip','app', 'os'], how='left')\n",
    "    del gp\n",
    "    gc.collect()\n",
    "    \n",
    "    print('group by : ip_app_chl_mean_hour')\n",
    "    gp = df[['ip','app', 'channel','hour']].groupby(by=['ip', 'app', 'channel'])[['hour']].mean().reset_index().rename(index=str, columns={'hour': 'ip_app_channel_mean_hour'})\n",
    "    df = df.merge(gp, on=['ip','app', 'channel'], how='left')\n",
    "    del gp\n",
    "    gc.collect()\n",
    "    \n",
    "    # resetting types (risparmiamo 4 GB)\n",
    "    df['qty'] = df['qty'].astype('uint16')\n",
    "    df['ip_app_count'] = df['ip_app_count'].astype('uint16')\n",
    "    df['ip_app_os_count'] = df['ip_app_os_count'].astype('uint16')\n",
    "\n",
    "    return df"
   ]
  },
  {
   "cell_type": "code",
   "execution_count": 7,
   "id": "f5c90ec8",
   "metadata": {},
   "outputs": [
    {
     "name": "stdout",
     "output_type": "stream",
     "text": [
      "group by : ip_app_channel_var_day\n",
      "group by : ip_day_hour_count_chl\n",
      "group by : ip_app_count_chl\n",
      "group by : ip_app_os_count_chl\n",
      "group by : ip_day_chl_var_hour\n",
      "group by : ip_app_os_var_hour\n",
      "group by : ip_app_chl_mean_hour\n",
      "CPU times: user 8min 59s, sys: 38 s, total: 9min 37s\n",
      "Wall time: 9min 37s\n"
     ]
    }
   ],
   "source": [
    "%%time\n",
    "\n",
    "orig_train = add_new_features(orig_train)"
   ]
  },
  {
   "cell_type": "code",
   "execution_count": 8,
   "id": "b97531f1",
   "metadata": {},
   "outputs": [
    {
     "data": {
      "text/html": [
       "<div>\n",
       "<style scoped>\n",
       "    .dataframe tbody tr th:only-of-type {\n",
       "        vertical-align: middle;\n",
       "    }\n",
       "\n",
       "    .dataframe tbody tr th {\n",
       "        vertical-align: top;\n",
       "    }\n",
       "\n",
       "    .dataframe thead th {\n",
       "        text-align: right;\n",
       "    }\n",
       "</style>\n",
       "<table border=\"1\" class=\"dataframe\">\n",
       "  <thead>\n",
       "    <tr style=\"text-align: right;\">\n",
       "      <th></th>\n",
       "      <th>ip</th>\n",
       "      <th>app</th>\n",
       "      <th>device</th>\n",
       "      <th>os</th>\n",
       "      <th>channel</th>\n",
       "      <th>click_time</th>\n",
       "      <th>is_attributed</th>\n",
       "      <th>hour</th>\n",
       "      <th>day</th>\n",
       "      <th>ip_app_channel_var_day</th>\n",
       "      <th>qty</th>\n",
       "      <th>ip_app_count</th>\n",
       "      <th>ip_app_os_count</th>\n",
       "      <th>qty_var</th>\n",
       "      <th>ip_app_os_var</th>\n",
       "      <th>ip_app_channel_mean_hour</th>\n",
       "    </tr>\n",
       "  </thead>\n",
       "  <tbody>\n",
       "    <tr>\n",
       "      <th>184903885</th>\n",
       "      <td>121312</td>\n",
       "      <td>12</td>\n",
       "      <td>1</td>\n",
       "      <td>10</td>\n",
       "      <td>340</td>\n",
       "      <td>2017-11-09 16:00:00</td>\n",
       "      <td>0</td>\n",
       "      <td>16</td>\n",
       "      <td>9</td>\n",
       "      <td>0.000000</td>\n",
       "      <td>4</td>\n",
       "      <td>491</td>\n",
       "      <td>9</td>\n",
       "      <td>27.766667</td>\n",
       "      <td>26.750000</td>\n",
       "      <td>10.166667</td>\n",
       "    </tr>\n",
       "    <tr>\n",
       "      <th>184903886</th>\n",
       "      <td>46894</td>\n",
       "      <td>3</td>\n",
       "      <td>1</td>\n",
       "      <td>19</td>\n",
       "      <td>211</td>\n",
       "      <td>2017-11-09 16:00:00</td>\n",
       "      <td>0</td>\n",
       "      <td>16</td>\n",
       "      <td>9</td>\n",
       "      <td>0.481132</td>\n",
       "      <td>4</td>\n",
       "      <td>1557</td>\n",
       "      <td>375</td>\n",
       "      <td>34.732026</td>\n",
       "      <td>43.638816</td>\n",
       "      <td>9.314815</td>\n",
       "    </tr>\n",
       "    <tr>\n",
       "      <th>184903887</th>\n",
       "      <td>320126</td>\n",
       "      <td>1</td>\n",
       "      <td>1</td>\n",
       "      <td>13</td>\n",
       "      <td>274</td>\n",
       "      <td>2017-11-09 16:00:00</td>\n",
       "      <td>0</td>\n",
       "      <td>16</td>\n",
       "      <td>9</td>\n",
       "      <td>NaN</td>\n",
       "      <td>3</td>\n",
       "      <td>17</td>\n",
       "      <td>6</td>\n",
       "      <td>NaN</td>\n",
       "      <td>26.666667</td>\n",
       "      <td>16.000000</td>\n",
       "    </tr>\n",
       "    <tr>\n",
       "      <th>184903888</th>\n",
       "      <td>189286</td>\n",
       "      <td>12</td>\n",
       "      <td>1</td>\n",
       "      <td>37</td>\n",
       "      <td>259</td>\n",
       "      <td>2017-11-09 16:00:00</td>\n",
       "      <td>0</td>\n",
       "      <td>16</td>\n",
       "      <td>9</td>\n",
       "      <td>0.885763</td>\n",
       "      <td>1</td>\n",
       "      <td>643</td>\n",
       "      <td>22</td>\n",
       "      <td>27.307776</td>\n",
       "      <td>21.593074</td>\n",
       "      <td>10.882812</td>\n",
       "    </tr>\n",
       "    <tr>\n",
       "      <th>184903889</th>\n",
       "      <td>106485</td>\n",
       "      <td>11</td>\n",
       "      <td>1</td>\n",
       "      <td>19</td>\n",
       "      <td>137</td>\n",
       "      <td>2017-11-09 16:00:00</td>\n",
       "      <td>0</td>\n",
       "      <td>16</td>\n",
       "      <td>9</td>\n",
       "      <td>0.244953</td>\n",
       "      <td>1</td>\n",
       "      <td>812</td>\n",
       "      <td>197</td>\n",
       "      <td>22.157178</td>\n",
       "      <td>37.324148</td>\n",
       "      <td>11.263464</td>\n",
       "    </tr>\n",
       "  </tbody>\n",
       "</table>\n",
       "</div>"
      ],
      "text/plain": [
       "               ip  app  device  os  channel          click_time  \\\n",
       "184903885  121312   12       1  10      340 2017-11-09 16:00:00   \n",
       "184903886   46894    3       1  19      211 2017-11-09 16:00:00   \n",
       "184903887  320126    1       1  13      274 2017-11-09 16:00:00   \n",
       "184903888  189286   12       1  37      259 2017-11-09 16:00:00   \n",
       "184903889  106485   11       1  19      137 2017-11-09 16:00:00   \n",
       "\n",
       "           is_attributed  hour  day  ip_app_channel_var_day  qty  \\\n",
       "184903885              0    16    9                0.000000    4   \n",
       "184903886              0    16    9                0.481132    4   \n",
       "184903887              0    16    9                     NaN    3   \n",
       "184903888              0    16    9                0.885763    1   \n",
       "184903889              0    16    9                0.244953    1   \n",
       "\n",
       "           ip_app_count  ip_app_os_count    qty_var  ip_app_os_var  \\\n",
       "184903885           491                9  27.766667      26.750000   \n",
       "184903886          1557              375  34.732026      43.638816   \n",
       "184903887            17                6        NaN      26.666667   \n",
       "184903888           643               22  27.307776      21.593074   \n",
       "184903889           812              197  22.157178      37.324148   \n",
       "\n",
       "           ip_app_channel_mean_hour  \n",
       "184903885                 10.166667  \n",
       "184903886                  9.314815  \n",
       "184903887                 16.000000  \n",
       "184903888                 10.882812  \n",
       "184903889                 11.263464  "
      ]
     },
     "execution_count": 8,
     "metadata": {},
     "output_type": "execute_result"
    }
   ],
   "source": [
    "orig_train.tail()"
   ]
  },
  {
   "cell_type": "code",
   "execution_count": 9,
   "id": "3715fcf8",
   "metadata": {},
   "outputs": [
    {
     "name": "stdout",
     "output_type": "stream",
     "text": [
      "<class 'pandas.core.frame.DataFrame'>\n",
      "Int64Index: 184903890 entries, 0 to 184903889\n",
      "Data columns (total 16 columns):\n",
      " #   Column                    Dtype         \n",
      "---  ------                    -----         \n",
      " 0   ip                        uint32        \n",
      " 1   app                       uint16        \n",
      " 2   device                    uint16        \n",
      " 3   os                        uint16        \n",
      " 4   channel                   uint16        \n",
      " 5   click_time                datetime64[ns]\n",
      " 6   is_attributed             uint8         \n",
      " 7   hour                      uint8         \n",
      " 8   day                       uint8         \n",
      " 9   ip_app_channel_var_day    float64       \n",
      " 10  qty                       uint16        \n",
      " 11  ip_app_count              uint16        \n",
      " 12  ip_app_os_count           uint16        \n",
      " 13  qty_var                   float64       \n",
      " 14  ip_app_os_var             float64       \n",
      " 15  ip_app_channel_mean_hour  float64       \n",
      "dtypes: datetime64[ns](1), float64(4), uint16(7), uint32(1), uint8(3)\n",
      "memory usage: 11.9 GB\n"
     ]
    }
   ],
   "source": [
    "orig_train.info()"
   ]
  },
  {
   "cell_type": "code",
   "execution_count": 10,
   "id": "8ddf60b4",
   "metadata": {},
   "outputs": [
    {
     "name": "stdout",
     "output_type": "stream",
     "text": [
      "CPU times: user 31.6 s, sys: 8.97 s, total: 40.6 s\n",
      "Wall time: 12.1 s\n"
     ]
    }
   ],
   "source": [
    "%%time\n",
    "\n",
    "# save for fatser restart\n",
    "orig_train.to_feather(\"train_augmented.fea\")"
   ]
  },
  {
   "cell_type": "code",
   "execution_count": 14,
   "id": "a0239f27",
   "metadata": {},
   "outputs": [
    {
     "name": "stdout",
     "output_type": "stream",
     "text": [
      "CPU times: user 8.95 s, sys: 7.18 s, total: 16.1 s\n",
      "Wall time: 3.31 s\n"
     ]
    }
   ],
   "source": [
    "%%time\n",
    "\n",
    "# del orig_train\n",
    "\n",
    "\n",
    "# per serializzare il risultato della Feature Engineering conviene NOn usare csv ed usare formagti compressi, io ho usato feather\n",
    "# ma avrei potuto usare Parquet\n",
    "\n",
    "orig_train = pd.read_feather(\"train_augmented.fea\")"
   ]
  },
  {
   "cell_type": "code",
   "execution_count": 15,
   "id": "601ce3ec",
   "metadata": {},
   "outputs": [
    {
     "data": {
      "text/html": [
       "<div>\n",
       "<style scoped>\n",
       "    .dataframe tbody tr th:only-of-type {\n",
       "        vertical-align: middle;\n",
       "    }\n",
       "\n",
       "    .dataframe tbody tr th {\n",
       "        vertical-align: top;\n",
       "    }\n",
       "\n",
       "    .dataframe thead th {\n",
       "        text-align: right;\n",
       "    }\n",
       "</style>\n",
       "<table border=\"1\" class=\"dataframe\">\n",
       "  <thead>\n",
       "    <tr style=\"text-align: right;\">\n",
       "      <th></th>\n",
       "      <th>ip</th>\n",
       "      <th>app</th>\n",
       "      <th>device</th>\n",
       "      <th>os</th>\n",
       "      <th>channel</th>\n",
       "      <th>click_time</th>\n",
       "      <th>is_attributed</th>\n",
       "      <th>hour</th>\n",
       "      <th>day</th>\n",
       "      <th>ip_app_channel_var_day</th>\n",
       "      <th>qty</th>\n",
       "      <th>ip_app_count</th>\n",
       "      <th>ip_app_os_count</th>\n",
       "      <th>qty_var</th>\n",
       "      <th>ip_app_os_var</th>\n",
       "      <th>ip_app_channel_mean_hour</th>\n",
       "    </tr>\n",
       "  </thead>\n",
       "  <tbody>\n",
       "    <tr>\n",
       "      <th>0</th>\n",
       "      <td>83230</td>\n",
       "      <td>3</td>\n",
       "      <td>1</td>\n",
       "      <td>13</td>\n",
       "      <td>379</td>\n",
       "      <td>2017-11-06 14:32:21</td>\n",
       "      <td>0</td>\n",
       "      <td>14</td>\n",
       "      <td>6</td>\n",
       "      <td>0.914338</td>\n",
       "      <td>1</td>\n",
       "      <td>5427</td>\n",
       "      <td>1326</td>\n",
       "      <td>7.893333</td>\n",
       "      <td>38.855403</td>\n",
       "      <td>8.619632</td>\n",
       "    </tr>\n",
       "    <tr>\n",
       "      <th>1</th>\n",
       "      <td>17357</td>\n",
       "      <td>3</td>\n",
       "      <td>1</td>\n",
       "      <td>19</td>\n",
       "      <td>379</td>\n",
       "      <td>2017-11-06 14:33:34</td>\n",
       "      <td>0</td>\n",
       "      <td>14</td>\n",
       "      <td>6</td>\n",
       "      <td>0.745750</td>\n",
       "      <td>1</td>\n",
       "      <td>5025</td>\n",
       "      <td>1380</td>\n",
       "      <td>9.618462</td>\n",
       "      <td>26.386922</td>\n",
       "      <td>8.090909</td>\n",
       "    </tr>\n",
       "    <tr>\n",
       "      <th>2</th>\n",
       "      <td>35810</td>\n",
       "      <td>3</td>\n",
       "      <td>1</td>\n",
       "      <td>13</td>\n",
       "      <td>379</td>\n",
       "      <td>2017-11-06 14:34:12</td>\n",
       "      <td>0</td>\n",
       "      <td>14</td>\n",
       "      <td>6</td>\n",
       "      <td>0.690244</td>\n",
       "      <td>1</td>\n",
       "      <td>2012</td>\n",
       "      <td>442</td>\n",
       "      <td>15.600000</td>\n",
       "      <td>34.029284</td>\n",
       "      <td>8.317073</td>\n",
       "    </tr>\n",
       "    <tr>\n",
       "      <th>3</th>\n",
       "      <td>45745</td>\n",
       "      <td>14</td>\n",
       "      <td>1</td>\n",
       "      <td>13</td>\n",
       "      <td>478</td>\n",
       "      <td>2017-11-06 14:34:52</td>\n",
       "      <td>0</td>\n",
       "      <td>14</td>\n",
       "      <td>6</td>\n",
       "      <td>0.883721</td>\n",
       "      <td>1</td>\n",
       "      <td>9474</td>\n",
       "      <td>1954</td>\n",
       "      <td>5.947712</td>\n",
       "      <td>39.259411</td>\n",
       "      <td>10.477273</td>\n",
       "    </tr>\n",
       "    <tr>\n",
       "      <th>4</th>\n",
       "      <td>161007</td>\n",
       "      <td>3</td>\n",
       "      <td>1</td>\n",
       "      <td>13</td>\n",
       "      <td>379</td>\n",
       "      <td>2017-11-06 14:35:08</td>\n",
       "      <td>0</td>\n",
       "      <td>14</td>\n",
       "      <td>6</td>\n",
       "      <td>0.619048</td>\n",
       "      <td>1</td>\n",
       "      <td>232</td>\n",
       "      <td>80</td>\n",
       "      <td>10.800000</td>\n",
       "      <td>37.221361</td>\n",
       "      <td>11.428571</td>\n",
       "    </tr>\n",
       "  </tbody>\n",
       "</table>\n",
       "</div>"
      ],
      "text/plain": [
       "       ip  app  device  os  channel          click_time  is_attributed  hour  \\\n",
       "0   83230    3       1  13      379 2017-11-06 14:32:21              0    14   \n",
       "1   17357    3       1  19      379 2017-11-06 14:33:34              0    14   \n",
       "2   35810    3       1  13      379 2017-11-06 14:34:12              0    14   \n",
       "3   45745   14       1  13      478 2017-11-06 14:34:52              0    14   \n",
       "4  161007    3       1  13      379 2017-11-06 14:35:08              0    14   \n",
       "\n",
       "   day  ip_app_channel_var_day  qty  ip_app_count  ip_app_os_count    qty_var  \\\n",
       "0    6                0.914338    1          5427             1326   7.893333   \n",
       "1    6                0.745750    1          5025             1380   9.618462   \n",
       "2    6                0.690244    1          2012              442  15.600000   \n",
       "3    6                0.883721    1          9474             1954   5.947712   \n",
       "4    6                0.619048    1           232               80  10.800000   \n",
       "\n",
       "   ip_app_os_var  ip_app_channel_mean_hour  \n",
       "0      38.855403                  8.619632  \n",
       "1      26.386922                  8.090909  \n",
       "2      34.029284                  8.317073  \n",
       "3      39.259411                 10.477273  \n",
       "4      37.221361                 11.428571  "
      ]
     },
     "execution_count": 15,
     "metadata": {},
     "output_type": "execute_result"
    }
   ],
   "source": [
    "orig_train.head()"
   ]
  },
  {
   "cell_type": "code",
   "execution_count": 16,
   "id": "79b6633a",
   "metadata": {},
   "outputs": [
    {
     "data": {
      "text/plain": [
       "(184903890, 16)"
      ]
     },
     "execution_count": 16,
     "metadata": {},
     "output_type": "execute_result"
    }
   ],
   "source": [
    "orig_train.shape"
   ]
  },
  {
   "cell_type": "code",
   "execution_count": 17,
   "id": "256ddbf6",
   "metadata": {},
   "outputs": [
    {
     "name": "stdout",
     "output_type": "stream",
     "text": [
      "<class 'pandas.core.frame.DataFrame'>\n",
      "RangeIndex: 184903890 entries, 0 to 184903889\n",
      "Data columns (total 16 columns):\n",
      " #   Column                    Dtype         \n",
      "---  ------                    -----         \n",
      " 0   ip                        uint32        \n",
      " 1   app                       uint16        \n",
      " 2   device                    uint16        \n",
      " 3   os                        uint16        \n",
      " 4   channel                   uint16        \n",
      " 5   click_time                datetime64[ns]\n",
      " 6   is_attributed             uint8         \n",
      " 7   hour                      uint8         \n",
      " 8   day                       uint8         \n",
      " 9   ip_app_channel_var_day    float64       \n",
      " 10  qty                       uint16        \n",
      " 11  ip_app_count              uint16        \n",
      " 12  ip_app_os_count           uint16        \n",
      " 13  qty_var                   float64       \n",
      " 14  ip_app_os_var             float64       \n",
      " 15  ip_app_channel_mean_hour  float64       \n",
      "dtypes: datetime64[ns](1), float64(4), uint16(7), uint32(1), uint8(3)\n",
      "memory usage: 10.5 GB\n"
     ]
    }
   ],
   "source": [
    "orig_train.info()"
   ]
  },
  {
   "cell_type": "code",
   "execution_count": null,
   "id": "04677225",
   "metadata": {},
   "outputs": [],
   "source": []
  }
 ],
 "metadata": {
  "kernelspec": {
   "display_name": "Python [conda env:mlcpuv1]",
   "language": "python",
   "name": "conda-env-mlcpuv1-py"
  },
  "language_info": {
   "codemirror_mode": {
    "name": "ipython",
    "version": 3
   },
   "file_extension": ".py",
   "mimetype": "text/x-python",
   "name": "python",
   "nbconvert_exporter": "python",
   "pygments_lexer": "ipython3",
   "version": "3.6.11"
  }
 },
 "nbformat": 4,
 "nbformat_minor": 5
}
