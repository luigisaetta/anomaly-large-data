{
 "cells": [
  {
   "cell_type": "markdown",
   "id": "912c46ee",
   "metadata": {},
   "source": [
    "### ModelOne + ADSTuner + Deploy Model\n",
    "\n",
    "* Notebook da utilizzare per il deploy del modello\n",
    "\n",
    "data from: https://www.kaggle.com/c/talkingdata-adtracking-fraud-detection"
   ]
  },
  {
   "cell_type": "code",
   "execution_count": 1,
   "id": "6809c4b1",
   "metadata": {},
   "outputs": [],
   "source": [
    "import gc\n",
    "\n",
    "import pandas as pd\n",
    "import numpy as np\n",
    "from imblearn.under_sampling import RandomUnderSampler\n",
    "from sklearn.preprocessing import LabelEncoder\n",
    "\n",
    "import lightgbm as lgb"
   ]
  },
  {
   "cell_type": "markdown",
   "id": "3c2f25bd",
   "metadata": {},
   "source": [
    "### leggiamo l'intero LARGE dataset"
   ]
  },
  {
   "cell_type": "code",
   "execution_count": 2,
   "id": "f6c7f897",
   "metadata": {},
   "outputs": [],
   "source": [
    "cols = ['ip', 'app', 'device', 'os', 'channel', 'click_time', 'is_attributed']\n",
    "\n",
    "dtypes = {\n",
    "        'ip'            : 'uint32',\n",
    "        'app'           : 'uint16',\n",
    "        'device'        : 'uint16',\n",
    "        'os'            : 'uint16',\n",
    "        'channel'       : 'uint16',\n",
    "        'is_attributed' : 'uint8',\n",
    "        }"
   ]
  },
  {
   "cell_type": "code",
   "execution_count": 3,
   "id": "94503167",
   "metadata": {},
   "outputs": [],
   "source": [
    "# removed ip because it is high card\n",
    "feat = ['ip', 'app', 'device', 'os', 'channel']\n",
    "cat_feat = ['app', 'device', 'os', 'channel']"
   ]
  },
  {
   "cell_type": "code",
   "execution_count": 4,
   "id": "96d19908",
   "metadata": {},
   "outputs": [],
   "source": [
    "# adding new features\n",
    "\n",
    "def add_new_features(df):\n",
    "    df['click_time'] = pd.to_datetime(df['click_time'])\n",
    "    df['hour'] = pd.to_datetime(df.click_time).dt.hour.astype('uint8')\n",
    "    df['day'] = pd.to_datetime(df.click_time).dt.day.astype('uint8')\n",
    "    \n",
    "    print('group by : ip_app_channel_var_day')\n",
    "    gp = df[['ip','app', 'channel', 'day']].groupby(by=['ip', 'app', 'channel'])[['day']].var().reset_index().rename(index=str, columns={'day': 'ip_app_channel_var_day'})\n",
    "    df = df.merge(gp, on=['ip','app', 'channel'], how='left')\n",
    "    del gp\n",
    "    gc.collect()\n",
    "    \n",
    "    print('group by : ip_day_hour_count_chl')\n",
    "    gp = df[['ip','day','hour','channel']].groupby(by=['ip','day','hour'])[['channel']].count().reset_index().rename(index=str, columns={'channel': 'qty'})\n",
    "    df = df.merge(gp, on=['ip','day','hour'], how='left')\n",
    "    del gp\n",
    "    gc.collect()\n",
    "    \n",
    "    print('group by : ip_app_count_chl')\n",
    "    gp = df[['ip','app', 'channel']].groupby(by=['ip', 'app'])[['channel']].count().reset_index().rename(index=str, columns={'channel': 'ip_app_count'})\n",
    "    df = df.merge(gp, on=['ip','app'], how='left')\n",
    "    del gp\n",
    "    gc.collect()\n",
    "    \n",
    "    print('group by : ip_app_os_count_chl')\n",
    "    gp = df[['ip','app', 'os', 'channel']].groupby(by=['ip', 'app', 'os'])[['channel']].count().reset_index().rename(index=str, columns={'channel': 'ip_app_os_count'})\n",
    "    df = df.merge(gp, on=['ip','app', 'os'], how='left')\n",
    "    del gp\n",
    "    gc.collect()\n",
    "    \n",
    "    print('group by : ip_day_chl_var_hour')\n",
    "    gp = df[['ip','day','hour','channel']].groupby(by=['ip','day','channel'])[['hour']].var().reset_index().rename(index=str, columns={'hour': 'qty_var'})\n",
    "    df = df.merge(gp, on=['ip','day','channel'], how='left')\n",
    "    del gp\n",
    "    gc.collect()\n",
    "    \n",
    "    print('group by : ip_app_os_var_hour')\n",
    "    gp = df[['ip','app', 'os', 'hour']].groupby(by=['ip', 'app', 'os'])[['hour']].var().reset_index().rename(index=str, columns={'hour': 'ip_app_os_var'})\n",
    "    df = df.merge(gp, on=['ip','app', 'os'], how='left')\n",
    "    del gp\n",
    "    gc.collect()\n",
    "    \n",
    "    print('group by : ip_app_chl_mean_hour')\n",
    "    gp = df[['ip','app', 'channel','hour']].groupby(by=['ip', 'app', 'channel'])[['hour']].mean().reset_index().rename(index=str, columns={'hour': 'ip_app_channel_mean_hour'})\n",
    "    df = df.merge(gp, on=['ip','app', 'channel'], how='left')\n",
    "    del gp\n",
    "    gc.collect()\n",
    "    \n",
    "    return df"
   ]
  },
  {
   "cell_type": "code",
   "execution_count": 5,
   "id": "ba8706e1",
   "metadata": {},
   "outputs": [],
   "source": [
    "# save for faster restart\n",
    "# orig_train.to_feather(\"train_augmented\")"
   ]
  },
  {
   "cell_type": "markdown",
   "id": "aad866fd",
   "metadata": {},
   "source": [
    "### Restart Point !!!"
   ]
  },
  {
   "cell_type": "code",
   "execution_count": 7,
   "id": "d048e070",
   "metadata": {},
   "outputs": [
    {
     "name": "stdout",
     "output_type": "stream",
     "text": [
      "CPU times: user 8.69 s, sys: 6.64 s, total: 15.3 s\n",
      "Wall time: 3.15 s\n"
     ]
    }
   ],
   "source": [
    "%%time\n",
    "\n",
    "# per serializzare il risultato della Feature Engineering conviene NOn usare csv ed usare formagti compressi, io ho usato feather\n",
    "# ma avrei potuto usare Parquet\n",
    "\n",
    "orig_train = pd.read_feather(\"train_augmented.fea\")"
   ]
  },
  {
   "cell_type": "code",
   "execution_count": 8,
   "id": "1b827590",
   "metadata": {},
   "outputs": [
    {
     "data": {
      "text/html": [
       "<div>\n",
       "<style scoped>\n",
       "    .dataframe tbody tr th:only-of-type {\n",
       "        vertical-align: middle;\n",
       "    }\n",
       "\n",
       "    .dataframe tbody tr th {\n",
       "        vertical-align: top;\n",
       "    }\n",
       "\n",
       "    .dataframe thead th {\n",
       "        text-align: right;\n",
       "    }\n",
       "</style>\n",
       "<table border=\"1\" class=\"dataframe\">\n",
       "  <thead>\n",
       "    <tr style=\"text-align: right;\">\n",
       "      <th></th>\n",
       "      <th>ip</th>\n",
       "      <th>app</th>\n",
       "      <th>device</th>\n",
       "      <th>os</th>\n",
       "      <th>channel</th>\n",
       "      <th>click_time</th>\n",
       "      <th>is_attributed</th>\n",
       "      <th>hour</th>\n",
       "      <th>day</th>\n",
       "      <th>ip_app_channel_var_day</th>\n",
       "      <th>qty</th>\n",
       "      <th>ip_app_count</th>\n",
       "      <th>ip_app_os_count</th>\n",
       "      <th>qty_var</th>\n",
       "      <th>ip_app_os_var</th>\n",
       "      <th>ip_app_channel_mean_hour</th>\n",
       "    </tr>\n",
       "  </thead>\n",
       "  <tbody>\n",
       "    <tr>\n",
       "      <th>0</th>\n",
       "      <td>83230</td>\n",
       "      <td>3</td>\n",
       "      <td>1</td>\n",
       "      <td>13</td>\n",
       "      <td>379</td>\n",
       "      <td>2017-11-06 14:32:21</td>\n",
       "      <td>0</td>\n",
       "      <td>14</td>\n",
       "      <td>6</td>\n",
       "      <td>0.914338</td>\n",
       "      <td>1</td>\n",
       "      <td>5427</td>\n",
       "      <td>1326</td>\n",
       "      <td>7.893333</td>\n",
       "      <td>38.855403</td>\n",
       "      <td>8.619632</td>\n",
       "    </tr>\n",
       "    <tr>\n",
       "      <th>1</th>\n",
       "      <td>17357</td>\n",
       "      <td>3</td>\n",
       "      <td>1</td>\n",
       "      <td>19</td>\n",
       "      <td>379</td>\n",
       "      <td>2017-11-06 14:33:34</td>\n",
       "      <td>0</td>\n",
       "      <td>14</td>\n",
       "      <td>6</td>\n",
       "      <td>0.745750</td>\n",
       "      <td>1</td>\n",
       "      <td>5025</td>\n",
       "      <td>1380</td>\n",
       "      <td>9.618462</td>\n",
       "      <td>26.386922</td>\n",
       "      <td>8.090909</td>\n",
       "    </tr>\n",
       "    <tr>\n",
       "      <th>2</th>\n",
       "      <td>35810</td>\n",
       "      <td>3</td>\n",
       "      <td>1</td>\n",
       "      <td>13</td>\n",
       "      <td>379</td>\n",
       "      <td>2017-11-06 14:34:12</td>\n",
       "      <td>0</td>\n",
       "      <td>14</td>\n",
       "      <td>6</td>\n",
       "      <td>0.690244</td>\n",
       "      <td>1</td>\n",
       "      <td>2012</td>\n",
       "      <td>442</td>\n",
       "      <td>15.600000</td>\n",
       "      <td>34.029284</td>\n",
       "      <td>8.317073</td>\n",
       "    </tr>\n",
       "    <tr>\n",
       "      <th>3</th>\n",
       "      <td>45745</td>\n",
       "      <td>14</td>\n",
       "      <td>1</td>\n",
       "      <td>13</td>\n",
       "      <td>478</td>\n",
       "      <td>2017-11-06 14:34:52</td>\n",
       "      <td>0</td>\n",
       "      <td>14</td>\n",
       "      <td>6</td>\n",
       "      <td>0.883721</td>\n",
       "      <td>1</td>\n",
       "      <td>9474</td>\n",
       "      <td>1954</td>\n",
       "      <td>5.947712</td>\n",
       "      <td>39.259411</td>\n",
       "      <td>10.477273</td>\n",
       "    </tr>\n",
       "    <tr>\n",
       "      <th>4</th>\n",
       "      <td>161007</td>\n",
       "      <td>3</td>\n",
       "      <td>1</td>\n",
       "      <td>13</td>\n",
       "      <td>379</td>\n",
       "      <td>2017-11-06 14:35:08</td>\n",
       "      <td>0</td>\n",
       "      <td>14</td>\n",
       "      <td>6</td>\n",
       "      <td>0.619048</td>\n",
       "      <td>1</td>\n",
       "      <td>232</td>\n",
       "      <td>80</td>\n",
       "      <td>10.800000</td>\n",
       "      <td>37.221361</td>\n",
       "      <td>11.428571</td>\n",
       "    </tr>\n",
       "  </tbody>\n",
       "</table>\n",
       "</div>"
      ],
      "text/plain": [
       "       ip  app  device  os  channel          click_time  is_attributed  hour  \\\n",
       "0   83230    3       1  13      379 2017-11-06 14:32:21              0    14   \n",
       "1   17357    3       1  19      379 2017-11-06 14:33:34              0    14   \n",
       "2   35810    3       1  13      379 2017-11-06 14:34:12              0    14   \n",
       "3   45745   14       1  13      478 2017-11-06 14:34:52              0    14   \n",
       "4  161007    3       1  13      379 2017-11-06 14:35:08              0    14   \n",
       "\n",
       "   day  ip_app_channel_var_day  qty  ip_app_count  ip_app_os_count    qty_var  \\\n",
       "0    6                0.914338    1          5427             1326   7.893333   \n",
       "1    6                0.745750    1          5025             1380   9.618462   \n",
       "2    6                0.690244    1          2012              442  15.600000   \n",
       "3    6                0.883721    1          9474             1954   5.947712   \n",
       "4    6                0.619048    1           232               80  10.800000   \n",
       "\n",
       "   ip_app_os_var  ip_app_channel_mean_hour  \n",
       "0      38.855403                  8.619632  \n",
       "1      26.386922                  8.090909  \n",
       "2      34.029284                  8.317073  \n",
       "3      39.259411                 10.477273  \n",
       "4      37.221361                 11.428571  "
      ]
     },
     "execution_count": 8,
     "metadata": {},
     "output_type": "execute_result"
    }
   ],
   "source": [
    "orig_train.head()"
   ]
  },
  {
   "cell_type": "markdown",
   "id": "d9e19de6",
   "metadata": {},
   "source": [
    "* il dataset è estremamente sbilanciato... andrebbe fatto downsampling della classe 0\n",
    "* il downsampling lo faccio dopo lo split train validation"
   ]
  },
  {
   "cell_type": "code",
   "execution_count": 9,
   "id": "8055b193",
   "metadata": {},
   "outputs": [
    {
     "name": "stdout",
     "output_type": "stream",
     "text": [
      "Original training samples: 181205812\n",
      "Num. validation samples: 3698078\n"
     ]
    }
   ],
   "source": [
    "TARGET = 'is_attributed'\n",
    "\n",
    "# train, validation split\n",
    "TRAIN_FRAC = 0.98\n",
    "\n",
    "N_TRAIN = int(orig_train.shape[0] * TRAIN_FRAC)\n",
    "\n",
    "# shuffle\n",
    "orig_train = orig_train.sample(frac=1.)\n",
    "\n",
    "df_train = orig_train[:N_TRAIN]\n",
    "df_valid = orig_train[N_TRAIN:]\n",
    "\n",
    "print('Original training samples:', df_train.shape[0])\n",
    "print('Num. validation samples:', df_valid.shape[0])"
   ]
  },
  {
   "cell_type": "code",
   "execution_count": 10,
   "id": "009a5acb",
   "metadata": {},
   "outputs": [],
   "source": [
    "# rebalance\n",
    "\n",
    "feat = ['ip', 'app', 'device', 'os', 'channel',\n",
    "       'hour', 'day', 'ip_app_channel_var_day', 'qty', 'ip_app_count',\n",
    "       'qty_var', 'ip_app_os_count', 'ip_app_os_var',\n",
    "       'ip_app_channel_mean_hour']\n",
    "\n",
    "# removed ip because it is high cardinality\n",
    "cat_feat = ['app', 'device', 'os', 'channel']\n",
    "\n",
    "x_train = df_train[feat]\n",
    "y_train = df_train[TARGET]\n",
    "\n",
    "x_valid = df_valid[feat]\n",
    "y_valid = df_valid[TARGET]\n",
    "\n",
    "# faccio downsampling della classe \"negativi\"\n",
    "rus = RandomUnderSampler(random_state=0)\n",
    "\n",
    "x_train_resampled, y_train_resampled = rus.fit_resample(x_train, y_train)"
   ]
  },
  {
   "cell_type": "markdown",
   "id": "e1b67c4b",
   "metadata": {},
   "source": [
    "#### Final training con i parametri ottenuti con ADSTuner"
   ]
  },
  {
   "cell_type": "code",
   "execution_count": 11,
   "id": "f9eb6092",
   "metadata": {},
   "outputs": [
    {
     "name": "stderr",
     "output_type": "stream",
     "text": [
      "/home/datascience/conda/mlcpuv1/lib/python3.6/site-packages/lightgbm/engine.py:153: UserWarning: Found `early_stopping_rounds` in params. Will use it instead of argument\n",
      "  warnings.warn(\"Found `{}` in params. Will use it instead of argument\".format(alias))\n",
      "/home/datascience/conda/mlcpuv1/lib/python3.6/site-packages/lightgbm/basic.py:1295: UserWarning: categorical_feature in Dataset is overridden.\n",
      "New categorical_feature is ['app', 'channel', 'device', 'os']\n",
      "  'New categorical_feature is {}'.format(sorted(list(categorical_feature))))\n"
     ]
    },
    {
     "name": "stdout",
     "output_type": "stream",
     "text": [
      "[1]\tvalid_0's auc: 0.965808\tvalid_0's binary_logloss: 0.620043\n",
      "Training until validation scores don't improve for 10 rounds\n",
      "[2]\tvalid_0's auc: 0.967051\tvalid_0's binary_logloss: 0.559494\n",
      "[3]\tvalid_0's auc: 0.96748\tvalid_0's binary_logloss: 0.508645\n",
      "[4]\tvalid_0's auc: 0.967489\tvalid_0's binary_logloss: 0.465383\n",
      "[5]\tvalid_0's auc: 0.967846\tvalid_0's binary_logloss: 0.428359\n",
      "[6]\tvalid_0's auc: 0.968211\tvalid_0's binary_logloss: 0.396442\n",
      "[7]\tvalid_0's auc: 0.968364\tvalid_0's binary_logloss: 0.368637\n",
      "[8]\tvalid_0's auc: 0.96861\tvalid_0's binary_logloss: 0.344404\n",
      "[9]\tvalid_0's auc: 0.969034\tvalid_0's binary_logloss: 0.32321\n",
      "[10]\tvalid_0's auc: 0.969308\tvalid_0's binary_logloss: 0.304588\n",
      "[11]\tvalid_0's auc: 0.970243\tvalid_0's binary_logloss: 0.288108\n",
      "[12]\tvalid_0's auc: 0.970357\tvalid_0's binary_logloss: 0.273498\n",
      "[13]\tvalid_0's auc: 0.970682\tvalid_0's binary_logloss: 0.260633\n",
      "[14]\tvalid_0's auc: 0.97095\tvalid_0's binary_logloss: 0.249153\n",
      "[15]\tvalid_0's auc: 0.971217\tvalid_0's binary_logloss: 0.23899\n",
      "[16]\tvalid_0's auc: 0.971388\tvalid_0's binary_logloss: 0.229907\n",
      "[17]\tvalid_0's auc: 0.971443\tvalid_0's binary_logloss: 0.221872\n",
      "[18]\tvalid_0's auc: 0.971581\tvalid_0's binary_logloss: 0.214614\n",
      "[19]\tvalid_0's auc: 0.971678\tvalid_0's binary_logloss: 0.208194\n",
      "[20]\tvalid_0's auc: 0.971874\tvalid_0's binary_logloss: 0.202522\n",
      "[21]\tvalid_0's auc: 0.972015\tvalid_0's binary_logloss: 0.197384\n",
      "[22]\tvalid_0's auc: 0.972116\tvalid_0's binary_logloss: 0.192761\n",
      "[23]\tvalid_0's auc: 0.972226\tvalid_0's binary_logloss: 0.188708\n",
      "[24]\tvalid_0's auc: 0.972356\tvalid_0's binary_logloss: 0.18507\n",
      "[25]\tvalid_0's auc: 0.972433\tvalid_0's binary_logloss: 0.181836\n",
      "[26]\tvalid_0's auc: 0.972525\tvalid_0's binary_logloss: 0.178851\n",
      "[27]\tvalid_0's auc: 0.97264\tvalid_0's binary_logloss: 0.176192\n",
      "[28]\tvalid_0's auc: 0.972729\tvalid_0's binary_logloss: 0.17387\n",
      "[29]\tvalid_0's auc: 0.972856\tvalid_0's binary_logloss: 0.171662\n",
      "[30]\tvalid_0's auc: 0.97296\tvalid_0's binary_logloss: 0.16977\n",
      "[31]\tvalid_0's auc: 0.973065\tvalid_0's binary_logloss: 0.168032\n",
      "[32]\tvalid_0's auc: 0.973161\tvalid_0's binary_logloss: 0.166469\n",
      "[33]\tvalid_0's auc: 0.973262\tvalid_0's binary_logloss: 0.165092\n",
      "[34]\tvalid_0's auc: 0.97344\tvalid_0's binary_logloss: 0.163798\n",
      "[35]\tvalid_0's auc: 0.973609\tvalid_0's binary_logloss: 0.162645\n",
      "[36]\tvalid_0's auc: 0.973702\tvalid_0's binary_logloss: 0.161629\n",
      "[37]\tvalid_0's auc: 0.973901\tvalid_0's binary_logloss: 0.160711\n",
      "[38]\tvalid_0's auc: 0.974019\tvalid_0's binary_logloss: 0.159825\n",
      "[39]\tvalid_0's auc: 0.974147\tvalid_0's binary_logloss: 0.15901\n",
      "[40]\tvalid_0's auc: 0.97427\tvalid_0's binary_logloss: 0.158384\n",
      "[41]\tvalid_0's auc: 0.974396\tvalid_0's binary_logloss: 0.157719\n",
      "[42]\tvalid_0's auc: 0.974511\tvalid_0's binary_logloss: 0.157122\n",
      "[43]\tvalid_0's auc: 0.974605\tvalid_0's binary_logloss: 0.156552\n",
      "[44]\tvalid_0's auc: 0.974719\tvalid_0's binary_logloss: 0.156057\n",
      "[45]\tvalid_0's auc: 0.974851\tvalid_0's binary_logloss: 0.155633\n",
      "[46]\tvalid_0's auc: 0.97494\tvalid_0's binary_logloss: 0.155244\n",
      "[47]\tvalid_0's auc: 0.975053\tvalid_0's binary_logloss: 0.154874\n",
      "[48]\tvalid_0's auc: 0.975127\tvalid_0's binary_logloss: 0.154572\n",
      "[49]\tvalid_0's auc: 0.975217\tvalid_0's binary_logloss: 0.154276\n",
      "[50]\tvalid_0's auc: 0.975268\tvalid_0's binary_logloss: 0.153965\n",
      "[51]\tvalid_0's auc: 0.975344\tvalid_0's binary_logloss: 0.153672\n",
      "[52]\tvalid_0's auc: 0.975433\tvalid_0's binary_logloss: 0.153442\n",
      "[53]\tvalid_0's auc: 0.975471\tvalid_0's binary_logloss: 0.153199\n",
      "[54]\tvalid_0's auc: 0.975532\tvalid_0's binary_logloss: 0.153008\n",
      "[55]\tvalid_0's auc: 0.9756\tvalid_0's binary_logloss: 0.152836\n",
      "[56]\tvalid_0's auc: 0.975674\tvalid_0's binary_logloss: 0.152609\n",
      "[57]\tvalid_0's auc: 0.975735\tvalid_0's binary_logloss: 0.152443\n",
      "[58]\tvalid_0's auc: 0.975772\tvalid_0's binary_logloss: 0.152303\n",
      "[59]\tvalid_0's auc: 0.975801\tvalid_0's binary_logloss: 0.152172\n",
      "[60]\tvalid_0's auc: 0.975839\tvalid_0's binary_logloss: 0.152033\n",
      "[61]\tvalid_0's auc: 0.975902\tvalid_0's binary_logloss: 0.151896\n",
      "[62]\tvalid_0's auc: 0.975924\tvalid_0's binary_logloss: 0.151787\n",
      "[63]\tvalid_0's auc: 0.975941\tvalid_0's binary_logloss: 0.151701\n",
      "[64]\tvalid_0's auc: 0.976003\tvalid_0's binary_logloss: 0.151562\n",
      "[65]\tvalid_0's auc: 0.976014\tvalid_0's binary_logloss: 0.151445\n",
      "[66]\tvalid_0's auc: 0.976051\tvalid_0's binary_logloss: 0.15136\n",
      "[67]\tvalid_0's auc: 0.976096\tvalid_0's binary_logloss: 0.151281\n",
      "[68]\tvalid_0's auc: 0.976127\tvalid_0's binary_logloss: 0.151213\n",
      "[69]\tvalid_0's auc: 0.976158\tvalid_0's binary_logloss: 0.151112\n",
      "[70]\tvalid_0's auc: 0.976197\tvalid_0's binary_logloss: 0.15101\n",
      "[71]\tvalid_0's auc: 0.976227\tvalid_0's binary_logloss: 0.150954\n",
      "[72]\tvalid_0's auc: 0.97627\tvalid_0's binary_logloss: 0.150883\n",
      "[73]\tvalid_0's auc: 0.976334\tvalid_0's binary_logloss: 0.150826\n",
      "[74]\tvalid_0's auc: 0.976366\tvalid_0's binary_logloss: 0.150745\n",
      "[75]\tvalid_0's auc: 0.976381\tvalid_0's binary_logloss: 0.150682\n",
      "[76]\tvalid_0's auc: 0.976413\tvalid_0's binary_logloss: 0.150582\n",
      "[77]\tvalid_0's auc: 0.976437\tvalid_0's binary_logloss: 0.150505\n",
      "[78]\tvalid_0's auc: 0.976434\tvalid_0's binary_logloss: 0.150458\n",
      "[79]\tvalid_0's auc: 0.976461\tvalid_0's binary_logloss: 0.150403\n",
      "[80]\tvalid_0's auc: 0.976481\tvalid_0's binary_logloss: 0.150362\n",
      "[81]\tvalid_0's auc: 0.976503\tvalid_0's binary_logloss: 0.150314\n",
      "[82]\tvalid_0's auc: 0.97654\tvalid_0's binary_logloss: 0.150285\n",
      "[83]\tvalid_0's auc: 0.976558\tvalid_0's binary_logloss: 0.150225\n",
      "[84]\tvalid_0's auc: 0.976592\tvalid_0's binary_logloss: 0.150173\n",
      "[85]\tvalid_0's auc: 0.9766\tvalid_0's binary_logloss: 0.150135\n",
      "[86]\tvalid_0's auc: 0.97662\tvalid_0's binary_logloss: 0.150115\n",
      "[87]\tvalid_0's auc: 0.976628\tvalid_0's binary_logloss: 0.150063\n",
      "[88]\tvalid_0's auc: 0.976631\tvalid_0's binary_logloss: 0.150029\n",
      "[89]\tvalid_0's auc: 0.976631\tvalid_0's binary_logloss: 0.149991\n",
      "[90]\tvalid_0's auc: 0.97664\tvalid_0's binary_logloss: 0.14993\n",
      "[91]\tvalid_0's auc: 0.976665\tvalid_0's binary_logloss: 0.149909\n",
      "[92]\tvalid_0's auc: 0.976694\tvalid_0's binary_logloss: 0.149859\n",
      "[93]\tvalid_0's auc: 0.976711\tvalid_0's binary_logloss: 0.149811\n",
      "[94]\tvalid_0's auc: 0.976734\tvalid_0's binary_logloss: 0.149776\n",
      "[95]\tvalid_0's auc: 0.97674\tvalid_0's binary_logloss: 0.149753\n",
      "[96]\tvalid_0's auc: 0.976753\tvalid_0's binary_logloss: 0.149726\n",
      "[97]\tvalid_0's auc: 0.976761\tvalid_0's binary_logloss: 0.149684\n",
      "[98]\tvalid_0's auc: 0.976774\tvalid_0's binary_logloss: 0.14965\n",
      "[99]\tvalid_0's auc: 0.976782\tvalid_0's binary_logloss: 0.149607\n",
      "[100]\tvalid_0's auc: 0.976789\tvalid_0's binary_logloss: 0.149568\n",
      "Did not meet early stopping. Best iteration is:\n",
      "[100]\tvalid_0's auc: 0.976789\tvalid_0's binary_logloss: 0.149568\n",
      "CPU times: user 2h 29s, sys: 1.8 s, total: 2h 31s\n",
      "Wall time: 4min 24s\n"
     ]
    }
   ],
   "source": [
    "%%time\n",
    "\n",
    "# parametri dall'ottimizzazione con ADSTuner\n",
    "\n",
    "model = lgb.LGBMClassifier(objective='binary', seed=4321, n_jobs=-1, n_estimators=100, num_leaves = 48, max_depth=20, early_stopping_rounds=10)\n",
    "\n",
    "best_model = model.fit(x_train_resampled, y_train_resampled, eval_set=[(x_valid, y_valid)], verbose=1, feature_name=feat, categorical_feature=cat_feat, eval_metric = 'auc')"
   ]
  },
  {
   "cell_type": "code",
   "execution_count": 12,
   "id": "e27dc7f2",
   "metadata": {},
   "outputs": [
    {
     "data": {
      "image/png": "[encoded data removed]",
      "text/plain": [
       "<Figure size 648x432 with 1 Axes>"
      ]
     },
     "metadata": {
      "needs_background": "light"
     },
     "output_type": "display_data"
    }
   ],
   "source": [
    "lgb.plot_metric(model, metric='auc', figsize=(9, 6), title='validation AUC');"
   ]
  },
  {
   "cell_type": "code",
   "execution_count": 13,
   "id": "4dfdf222",
   "metadata": {},
   "outputs": [
    {
     "data": {
      "text/plain": [
       "<AxesSubplot:title={'center':'Feature importance'}, xlabel='Feature importance', ylabel='Features'>"
      ]
     },
     "execution_count": 13,
     "metadata": {},
     "output_type": "execute_result"
    },
    {
     "data": {
      "image/png": "[encoded data removed]",
      "text/plain": [
       "<Figure size 648x432 with 1 Axes>"
      ]
     },
     "metadata": {
      "needs_background": "light"
     },
     "output_type": "display_data"
    }
   ],
   "source": [
    "lgb.plot_importance(model, figsize=(9, 6), max_num_features=15)"
   ]
  },
  {
   "cell_type": "markdown",
   "id": "cf658d67",
   "metadata": {},
   "source": [
    "### Prepare the Model Deployment"
   ]
  },
  {
   "cell_type": "code",
   "execution_count": 14,
   "id": "e8f56b7a",
   "metadata": {},
   "outputs": [],
   "source": [
    "import os\n",
    "from ads.common.model_artifact import ModelArtifact\n",
    "from ads.common.model_export_util import prepare_generic_model\n",
    "from ads import set_auth\n",
    "\n",
    "import json\n",
    "import pickle"
   ]
  },
  {
   "cell_type": "code",
   "execution_count": 15,
   "id": "c4034479",
   "metadata": {},
   "outputs": [],
   "source": [
    "# env and auth\n",
    "compartment_id = os.environ['NB_SESSION_COMPARTMENT_OCID']\n",
    "project_id = os.environ['PROJECT_OCID']\n",
    "\n",
    "set_auth(auth='resource_principal')"
   ]
  },
  {
   "cell_type": "code",
   "execution_count": 16,
   "id": "25a3c973",
   "metadata": {},
   "outputs": [],
   "source": [
    "# 1. prepare artifacts directory\n",
    "\n",
    "PATH_ARTEFACT = f\"./model-files\"\n",
    "\n",
    "if not os.path.exists(PATH_ARTEFACT):\n",
    "    os.mkdir(PATH_ARTEFACT)"
   ]
  },
  {
   "cell_type": "code",
   "execution_count": 17,
   "id": "549bbbcb",
   "metadata": {},
   "outputs": [],
   "source": [
    "# 2. serialize model\n",
    "\n",
    "pickle.dump(best_model, open(PATH_ARTEFACT + '/model.pkl', 'wb'))"
   ]
  },
  {
   "cell_type": "code",
   "execution_count": 18,
   "id": "530edd9f",
   "metadata": {},
   "outputs": [],
   "source": [
    "# test: reload\n",
    "test_model = pickle.load(open(PATH_ARTEFACT + '/model.pkl', 'rb'))"
   ]
  },
  {
   "cell_type": "code",
   "execution_count": 19,
   "id": "17c50474",
   "metadata": {},
   "outputs": [
    {
     "data": {
      "application/vnd.jupyter.widget-view+json": {
       "model_id": "",
       "version_major": 2,
       "version_minor": 0
      },
      "text/plain": [
       "HBox(children=(HTML(value='loop1'), FloatProgress(value=0.0, max=4.0), HTML(value='')))"
      ]
     },
     "metadata": {},
     "output_type": "display_data"
    },
    {
     "name": "stdout",
     "output_type": "stream",
     "text": [
      "INFO:ADS:We give you the option to specify a different inference conda environment for model deployment purposes. By default it is assumed to be the same as the conda environment used to train the model. If you wish to specify a different environment for inference purposes, please assign the path of a published or data science conda environment to the optional parameter `inference_conda_env`. \n"
     ]
    }
   ],
   "source": [
    "# 3. prepare deploy to Model Catalog\n",
    "artifact = prepare_generic_model(PATH_ARTEFACT, function_artifacts=False, force_overwrite=True, data_science_env=True)"
   ]
  },
  {
   "cell_type": "code",
   "execution_count": 20,
   "id": "5082f6ce",
   "metadata": {},
   "outputs": [],
   "source": [
    "# reload the model\n",
    "loaded_model = pickle.load(open(\"./model-files/model.pkl\", \"rb\"))"
   ]
  },
  {
   "cell_type": "code",
   "execution_count": 21,
   "id": "9aa606af",
   "metadata": {},
   "outputs": [
    {
     "name": "stdout",
     "output_type": "stream",
     "text": [
      "Overwriting ./model-files/score.py\n"
     ]
    }
   ],
   "source": [
    "%%writefile {PATH_ARTEFACT}/score.py\n",
    "\n",
    "#\n",
    "# customize and save score.py\n",
    "#\n",
    "import pandas as pd\n",
    "import numpy as np\n",
    "import time\n",
    "\n",
    "import lightgbm as lgb\n",
    "\n",
    "import pickle\n",
    "import json\n",
    "import os\n",
    "import io\n",
    "import logging \n",
    "\n",
    "# logging configuration - OPTIONAL \n",
    "logging.basicConfig(format='%(name)s - %(levelname)s - %(message)s', level=logging.INFO)\n",
    "logger_pred = logging.getLogger('model-prediction')\n",
    "logger_pred.setLevel(logging.INFO)\n",
    "logger_feat = logging.getLogger('input-features')\n",
    "logger_feat.setLevel(logging.INFO)\n",
    "\n",
    "# it is loaded in load_model()\n",
    "model_file_name = \"model.pkl\"\n",
    "\n",
    "# to enable/disable detailed logging\n",
    "DEBUG = True\n",
    "\n",
    "\"\"\"\n",
    "   Inference script. This script is used for prediction by scoring server when schema is known.\n",
    "\"\"\"\n",
    "\n",
    "def load_model():\n",
    "    \"\"\"\n",
    "    Loads model from the serialized format\n",
    "\n",
    "    Returns\n",
    "    -------\n",
    "    model:  a model instance on which predict API can be invoked\n",
    "    \"\"\"\n",
    "    \n",
    "    model_dir = os.path.dirname(os.path.realpath(__file__))\n",
    "    contents = os.listdir(model_dir)\n",
    "    \n",
    "    # Load the model from the model_dir using the appropriate loader\n",
    "    \n",
    "    if model_file_name in contents:\n",
    "        with open(os.path.join(os.path.dirname(os.path.realpath(__file__)), model_file_name), \"rb\") as file:\n",
    "            model = pickle.load(file) \n",
    "            logger_pred.info(\"Loaded model...\")\n",
    "       \n",
    "    else:\n",
    "        raise Exception('{0} is not found in model directory {1}'.format(model_file_name, model_dir))\n",
    "    \n",
    "    return model\n",
    "\n",
    "def preprocess_data(x):\n",
    "    logger_pred.info(\"Eventually preprocessing and adding features...\")\n",
    "    \n",
    "    return x\n",
    "    \n",
    "def predict(data, model=load_model()) -> dict:\n",
    "    \"\"\"\n",
    "    Returns prediction given the model and data to predict\n",
    "\n",
    "    Parameters\n",
    "    ----------\n",
    "    model: Model instance returned by load_model API\n",
    "    data: Data format as expected by the predict API of the core estimator. For eg. in case of sckit models it could be numpy array/List of list/Panda DataFrame\n",
    "\n",
    "    Returns\n",
    "    -------\n",
    "    predictions: Output from scoring server\n",
    "        Format: { 'prediction': output from `model.predict` method }\n",
    "\n",
    "    \"\"\"\n",
    "    # model contains the model and the scaler\n",
    "    logger_pred.info(\"In predict...\")\n",
    "    \n",
    "    # some check\n",
    "    assert model is not None, \"Model is not loaded\"\n",
    "    \n",
    "    logger_feat.info('Raw input is:')\n",
    "    logger_feat.info(data)\n",
    "    \n",
    "    x = pd.read_json(io.StringIO(data)).values\n",
    "    \n",
    "    if DEBUG:\n",
    "        logger_feat.info(\"Logging features\")\n",
    "        logger_feat.info(x)\n",
    "    \n",
    "    # preprocess data (for example normalize features)\n",
    "    x = preprocess_data(x)\n",
    "\n",
    "    logger_pred.info(\"Invoking model......\")\n",
    "    \n",
    "    preds = model.predict_proba(x)\n",
    "    \n",
    "    # rounded\n",
    "    preds = np.round(preds[:, 1], 4)\n",
    "    preds = preds.tolist()\n",
    "    \n",
    "    logger_pred.info(\"Logging predictions\")\n",
    "    logger_pred.info(preds)\n",
    "    \n",
    "    return { 'prediction': preds }"
   ]
  },
  {
   "cell_type": "markdown",
   "id": "741cbd4b",
   "metadata": {},
   "source": [
    "### Test before deployment"
   ]
  },
  {
   "cell_type": "code",
   "execution_count": 22,
   "id": "6ba6eb37",
   "metadata": {},
   "outputs": [
    {
     "name": "stdout",
     "output_type": "stream",
     "text": [
      "INFO:model-prediction:Loaded model...\n",
      "INFO:model-prediction:Loaded model...\n"
     ]
    }
   ],
   "source": [
    "%load_ext autoreload\n",
    "\n",
    "%autoreload 2\n",
    "\n",
    "# add the path of score.py: \n",
    "\n",
    "import sys \n",
    "sys.path.insert(0, PATH_ARTEFACT)\n",
    "\n",
    "from score import load_model, predict\n",
    "\n",
    "# Load the model to memory \n",
    "_ = load_model()"
   ]
  },
  {
   "cell_type": "code",
   "execution_count": 23,
   "id": "680186d0",
   "metadata": {},
   "outputs": [],
   "source": [
    "# feat = ['ip', 'app', 'device', 'os', 'channel',\n",
    "#       'hour', 'day', 'ip_app_channel_var_day', 'qty', 'ip_app_count',\n",
    "#       'qty_var', 'ip_app_os_count', 'ip_app_os_var',\n",
    "#       'ip_app_channel_mean_hour']\n",
    "\n",
    "# first row of origin_train\n",
    "x_input = np.array([[59125, 14, 1, 25, 489, 22, 8, 0.643, 704, 1368, 55.77, 32, 43.3, 10.36],\n",
    "                   [59125, 14, 1, 25, 489, 22, 8, 0.643, 704, 1368, 55.77, 32, 43.3, 10.36]])"
   ]
  },
  {
   "cell_type": "code",
   "execution_count": 24,
   "id": "293343bc",
   "metadata": {},
   "outputs": [
    {
     "name": "stdout",
     "output_type": "stream",
     "text": [
      "INFO:model-prediction:In predict...\n",
      "INFO:input-features:Raw input is:\n",
      "INFO:input-features:[[59125.0, 14.0, 1.0, 25.0, 489.0, 22.0, 8.0, 0.643, 704.0, 1368.0, 55.77, 32.0, 43.3, 10.36], [59125.0, 14.0, 1.0, 25.0, 489.0, 22.0, 8.0, 0.643, 704.0, 1368.0, 55.77, 32.0, 43.3, 10.36]]\n",
      "INFO:input-features:Logging features\n",
      "INFO:input-features:[[5.9125e+04 1.4000e+01 1.0000e+00 2.5000e+01 4.8900e+02 2.2000e+01\n",
      "  8.0000e+00 6.4300e-01 7.0400e+02 1.3680e+03 5.5770e+01 3.2000e+01\n",
      "  4.3300e+01 1.0360e+01]\n",
      " [5.9125e+04 1.4000e+01 1.0000e+00 2.5000e+01 4.8900e+02 2.2000e+01\n",
      "  8.0000e+00 6.4300e-01 7.0400e+02 1.3680e+03 5.5770e+01 3.2000e+01\n",
      "  4.3300e+01 1.0360e+01]]\n",
      "INFO:model-prediction:Eventually preprocessing and adding features...\n",
      "INFO:model-prediction:Invoking model......\n",
      "INFO:model-prediction:Logging predictions\n",
      "INFO:model-prediction:[0.075, 0.075]\n"
     ]
    }
   ],
   "source": [
    "predictions_test = predict(json.dumps(x_input.tolist()), _)"
   ]
  },
  {
   "cell_type": "code",
   "execution_count": 25,
   "id": "f4e9ca15",
   "metadata": {},
   "outputs": [
    {
     "name": "stdout",
     "output_type": "stream",
     "text": [
      "INFO:ADS:{\n",
      "  \"git_branch\": \"None\",\n",
      "  \"git_commit\": \"None\",\n",
      "  \"repository_url\": \"None\",\n",
      "  \"script_dir\": \"/home/datascience/model-files\",\n",
      "  \"training_script\": \"None\"\n",
      "}\n"
     ]
    },
    {
     "data": {
      "application/vnd.jupyter.widget-view+json": {
       "model_id": "",
       "version_major": 2,
       "version_minor": 0
      },
      "text/plain": [
       "HBox(children=(HTML(value='loop1'), FloatProgress(value=0.0, max=4.0), HTML(value='')))"
      ]
     },
     "metadata": {},
     "output_type": "display_data"
    }
   ],
   "source": [
    "# Saving the model artifact to the model catalog.\n",
    "catalog_entry = artifact.save(display_name='model-large', \n",
    "              description='A model for fraud detection with a large dataset')"
   ]
  },
  {
   "cell_type": "code",
   "execution_count": 26,
   "id": "5b3d49ce",
   "metadata": {},
   "outputs": [
    {
     "data": {
      "text/plain": [
       "'ocid1.datasciencemodel.oc1.eu-frankfurt-1.amaaaaaa3mg5kzaafwegxwto2eygpme5yfuswfzn4c7xifz22itwi2lnkwpa'"
      ]
     },
     "execution_count": 26,
     "metadata": {},
     "output_type": "execute_result"
    }
   ],
   "source": [
    "catalog_entry.id"
   ]
  },
  {
   "cell_type": "code",
   "execution_count": null,
   "id": "67e973a3",
   "metadata": {},
   "outputs": [],
   "source": []
  }
 ],
 "metadata": {
  "kernelspec": {
   "display_name": "Python [conda env:mlcpuv1]",
   "language": "python",
   "name": "conda-env-mlcpuv1-py"
  },
  "language_info": {
   "codemirror_mode": {
    "name": "ipython",
    "version": 3
   },
   "file_extension": ".py",
   "mimetype": "text/x-python",
   "name": "python",
   "nbconvert_exporter": "python",
   "pygments_lexer": "ipython3",
   "version": "3.6.11"
  }
 },
 "nbformat": 4,
 "nbformat_minor": 5
}
