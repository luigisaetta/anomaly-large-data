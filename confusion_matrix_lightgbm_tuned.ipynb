{
 "cells": [
  {
   "cell_type": "markdown",
   "id": "bc03a265",
   "metadata": {},
   "source": [
    "#### Predizioni e Confusion Matrix per modello LightGBM tuned"
   ]
  },
  {
   "cell_type": "code",
   "execution_count": 16,
   "id": "259db76d",
   "metadata": {},
   "outputs": [],
   "source": [
    "import gc\n",
    "import pickle\n",
    "\n",
    "import pandas as pd\n",
    "import numpy as np\n",
    "from imblearn.under_sampling import RandomUnderSampler\n",
    "from sklearn.preprocessing import LabelEncoder\n",
    "\n",
    "from sklearn.metrics import confusion_matrix, ConfusionMatrixDisplay\n",
    "from sklearn.metrics import roc_auc_score\n",
    "\n",
    "import lightgbm as lgb"
   ]
  },
  {
   "cell_type": "code",
   "execution_count": 4,
   "id": "0e941fbb",
   "metadata": {},
   "outputs": [],
   "source": [
    "loaded_model = pickle.load(open(\"./model-files/model.pkl\", \"rb\"))"
   ]
  },
  {
   "cell_type": "code",
   "execution_count": 5,
   "id": "c8333e8d",
   "metadata": {},
   "outputs": [],
   "source": [
    "orig_train = pd.read_parquet(\"train_augmented.parquet\")"
   ]
  },
  {
   "cell_type": "code",
   "execution_count": 6,
   "id": "9efc37be",
   "metadata": {},
   "outputs": [
    {
     "name": "stdout",
     "output_type": "stream",
     "text": [
      "Original training samples: 181205812\n",
      "Num. validation samples: 3698078\n"
     ]
    }
   ],
   "source": [
    "TARGET = 'is_attributed'\n",
    "\n",
    "# train, validation split\n",
    "TRAIN_FRAC = 0.98\n",
    "\n",
    "N_TRAIN = int(orig_train.shape[0] * TRAIN_FRAC)\n",
    "\n",
    "# shuffle\n",
    "orig_train = orig_train.sample(frac=1.)\n",
    "\n",
    "df_train = orig_train[:N_TRAIN]\n",
    "df_valid = orig_train[N_TRAIN:]\n",
    "\n",
    "print('Original training samples:', df_train.shape[0])\n",
    "print('Num. validation samples:', df_valid.shape[0])"
   ]
  },
  {
   "cell_type": "code",
   "execution_count": 7,
   "id": "37d7ed8b",
   "metadata": {},
   "outputs": [],
   "source": [
    "feat = ['ip', 'app', 'device', 'os', 'channel',\n",
    "       'hour', 'day', 'ip_app_channel_var_day', 'qty', 'ip_app_count',\n",
    "       'qty_var', 'ip_app_os_count', 'ip_app_os_var',\n",
    "       'ip_app_channel_mean_hour']\n",
    "\n",
    "# removed ip because it is high cardinality\n",
    "cat_feat = ['app', 'device', 'os', 'channel']\n",
    "\n",
    "x_train = df_train[feat]\n",
    "y_train = df_train[TARGET]\n",
    "\n",
    "x_valid = df_valid[feat]\n",
    "y_valid = df_valid[TARGET]"
   ]
  },
  {
   "cell_type": "code",
   "execution_count": 8,
   "id": "f9658dd6",
   "metadata": {},
   "outputs": [],
   "source": [
    "y_pred = loaded_model.predict_proba(x_valid)"
   ]
  },
  {
   "cell_type": "code",
   "execution_count": 9,
   "id": "b4d07f7e",
   "metadata": {},
   "outputs": [],
   "source": [
    "y_pred = y_pred[:, 1]"
   ]
  },
  {
   "cell_type": "code",
   "execution_count": 15,
   "id": "ffe3e4ac",
   "metadata": {},
   "outputs": [
    {
     "name": "stdout",
     "output_type": "stream",
     "text": [
      "ROC computed with LightGBM best mdeo is: 0.979\n"
     ]
    }
   ],
   "source": [
    "print('ROC computed with LightGBM best mdeo is:', round(roc_auc_score(y_valid, y_pred), 4))"
   ]
  },
  {
   "cell_type": "code",
   "execution_count": 12,
   "id": "85715ecd",
   "metadata": {},
   "outputs": [],
   "source": [
    "y_pred_labels = loaded_model.predict(x_valid)"
   ]
  },
  {
   "cell_type": "code",
   "execution_count": 18,
   "id": "63578cad",
   "metadata": {},
   "outputs": [],
   "source": [
    "cm = confusion_matrix(y_valid, y_pred_labels)"
   ]
  },
  {
   "cell_type": "code",
   "execution_count": 19,
   "id": "1857d95b",
   "metadata": {},
   "outputs": [
    {
     "data": {
      "text/plain": [
       "<sklearn.metrics._plot.confusion_matrix.ConfusionMatrixDisplay at 0x7fd9cc471208>"
      ]
     },
     "execution_count": 19,
     "metadata": {},
     "output_type": "execute_result"
    },
    {
     "data": {
      "image/png": "[encoded data removed]",
      "text/plain": [
       "<Figure size 432x288 with 2 Axes>"
      ]
     },
     "metadata": {
      "needs_background": "light"
     },
     "output_type": "display_data"
    }
   ],
   "source": [
    "disp = ConfusionMatrixDisplay(confusion_matrix=cm)\n",
    "\n",
    "disp.plot()"
   ]
  },
  {
   "cell_type": "code",
   "execution_count": null,
   "id": "65e84171",
   "metadata": {},
   "outputs": [],
   "source": []
  }
 ],
 "metadata": {
  "kernelspec": {
   "display_name": "Python [conda env:mlcpuv1]",
   "language": "python",
   "name": "conda-env-mlcpuv1-py"
  },
  "language_info": {
   "codemirror_mode": {
    "name": "ipython",
    "version": 3
   },
   "file_extension": ".py",
   "mimetype": "text/x-python",
   "name": "python",
   "nbconvert_exporter": "python",
   "pygments_lexer": "ipython3",
   "version": "3.6.11"
  }
 },
 "nbformat": 4,
 "nbformat_minor": 5
}
