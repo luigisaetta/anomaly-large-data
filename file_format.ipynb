{
 "cells": [
  {
   "cell_type": "markdown",
   "id": "fe452b64",
   "metadata": {},
   "source": [
    "### Test different file format"
   ]
  },
  {
   "cell_type": "code",
   "execution_count": 1,
   "id": "52b7c41a",
   "metadata": {},
   "outputs": [],
   "source": [
    "import pandas as pd\n",
    "import numpy as np"
   ]
  },
  {
   "cell_type": "markdown",
   "id": "79abff3c",
   "metadata": {},
   "source": [
    "### CSV"
   ]
  },
  {
   "cell_type": "code",
   "execution_count": 4,
   "id": "bc0e0fa4",
   "metadata": {},
   "outputs": [
    {
     "name": "stdout",
     "output_type": "stream",
     "text": [
      "CPU times: user 1min 9s, sys: 5.4 s, total: 1min 14s\n",
      "Wall time: 2min 41s\n"
     ]
    }
   ],
   "source": [
    "%%time\n",
    "\n",
    "## quanto tempo ci vuole a leggere un csv?\n",
    "orig_csv = pd.read_csv('train.csv')"
   ]
  },
  {
   "cell_type": "code",
   "execution_count": 7,
   "id": "d49e848f",
   "metadata": {},
   "outputs": [
    {
     "name": "stdout",
     "output_type": "stream",
     "text": [
      "Il numero di record nel file: 184903890\n"
     ]
    }
   ],
   "source": [
    "print('Il numero di record nel file:', orig_csv.shape[0])"
   ]
  },
  {
   "cell_type": "code",
   "execution_count": 6,
   "id": "d740de63",
   "metadata": {},
   "outputs": [
    {
     "name": "stdout",
     "output_type": "stream",
     "text": [
      "<class 'pandas.core.frame.DataFrame'>\n",
      "RangeIndex: 184903890 entries, 0 to 184903889\n",
      "Data columns (total 8 columns):\n",
      " #   Column           Dtype \n",
      "---  ------           ----- \n",
      " 0   ip               int64 \n",
      " 1   app              int64 \n",
      " 2   device           int64 \n",
      " 3   os               int64 \n",
      " 4   channel          int64 \n",
      " 5   click_time       object\n",
      " 6   attributed_time  object\n",
      " 7   is_attributed    int64 \n",
      "dtypes: int64(6), object(2)\n",
      "memory usage: 11.0+ GB\n"
     ]
    }
   ],
   "source": [
    "orig_csv.info()"
   ]
  },
  {
   "cell_type": "markdown",
   "id": "bbd8a42d",
   "metadata": {},
   "source": [
    "### Parquet"
   ]
  },
  {
   "cell_type": "code",
   "execution_count": 5,
   "id": "06af20c5",
   "metadata": {},
   "outputs": [
    {
     "name": "stdout",
     "output_type": "stream",
     "text": [
      "CPU times: user 27.1 s, sys: 6.65 s, total: 33.7 s\n",
      "Wall time: 5.24 s\n"
     ]
    }
   ],
   "source": [
    "%%time\n",
    "\n",
    "# read the dataset in feather format\n",
    "orig_data = pd.read_parquet('train_augmented.parquet')"
   ]
  },
  {
   "cell_type": "code",
   "execution_count": 3,
   "id": "324c6296",
   "metadata": {},
   "outputs": [
    {
     "name": "stdout",
     "output_type": "stream",
     "text": [
      "<class 'pandas.core.frame.DataFrame'>\n",
      "RangeIndex: 184903890 entries, 0 to 184903889\n",
      "Data columns (total 16 columns):\n",
      " #   Column                    Dtype         \n",
      "---  ------                    -----         \n",
      " 0   ip                        int64         \n",
      " 1   app                       uint16        \n",
      " 2   device                    uint16        \n",
      " 3   os                        uint16        \n",
      " 4   channel                   uint16        \n",
      " 5   click_time                datetime64[ns]\n",
      " 6   is_attributed             uint8         \n",
      " 7   hour                      uint8         \n",
      " 8   day                       uint8         \n",
      " 9   ip_app_channel_var_day    float64       \n",
      " 10  qty                       uint16        \n",
      " 11  ip_app_count              uint16        \n",
      " 12  ip_app_os_count           uint16        \n",
      " 13  qty_var                   float64       \n",
      " 14  ip_app_os_var             float64       \n",
      " 15  ip_app_channel_mean_hour  float64       \n",
      "dtypes: datetime64[ns](1), float64(4), int64(1), uint16(7), uint8(3)\n",
      "memory usage: 11.2 GB\n"
     ]
    }
   ],
   "source": [
    "orig_data.info()"
   ]
  },
  {
   "cell_type": "markdown",
   "id": "04e393bc",
   "metadata": {},
   "source": [
    "### feather"
   ]
  },
  {
   "cell_type": "code",
   "execution_count": 8,
   "id": "7b5efd8e",
   "metadata": {},
   "outputs": [
    {
     "name": "stdout",
     "output_type": "stream",
     "text": [
      "CPU times: user 8.15 s, sys: 6.43 s, total: 14.6 s\n",
      "Wall time: 3.09 s\n"
     ]
    }
   ],
   "source": [
    "%%time\n",
    "\n",
    "# read the dataset in feather format\n",
    "orig_feather = pd.read_feather('train_augmented.fea')"
   ]
  },
  {
   "cell_type": "code",
   "execution_count": 9,
   "id": "dacb815b",
   "metadata": {},
   "outputs": [
    {
     "name": "stdout",
     "output_type": "stream",
     "text": [
      "<class 'pandas.core.frame.DataFrame'>\n",
      "RangeIndex: 184903890 entries, 0 to 184903889\n",
      "Data columns (total 16 columns):\n",
      " #   Column                    Dtype         \n",
      "---  ------                    -----         \n",
      " 0   ip                        int64         \n",
      " 1   app                       uint16        \n",
      " 2   device                    uint16        \n",
      " 3   os                        uint16        \n",
      " 4   channel                   uint16        \n",
      " 5   click_time                datetime64[ns]\n",
      " 6   is_attributed             uint8         \n",
      " 7   hour                      uint8         \n",
      " 8   day                       uint8         \n",
      " 9   ip_app_channel_var_day    float64       \n",
      " 10  qty                       uint16        \n",
      " 11  ip_app_count              uint16        \n",
      " 12  ip_app_os_count           uint16        \n",
      " 13  qty_var                   float64       \n",
      " 14  ip_app_os_var             float64       \n",
      " 15  ip_app_channel_mean_hour  float64       \n",
      "dtypes: datetime64[ns](1), float64(4), int64(1), uint16(7), uint8(3)\n",
      "memory usage: 11.2 GB\n"
     ]
    }
   ],
   "source": [
    "orig_data.info()"
   ]
  },
  {
   "cell_type": "code",
   "execution_count": 10,
   "id": "a33f544c",
   "metadata": {},
   "outputs": [
    {
     "data": {
      "text/html": [
       "<div>\n",
       "<style scoped>\n",
       "    .dataframe tbody tr th:only-of-type {\n",
       "        vertical-align: middle;\n",
       "    }\n",
       "\n",
       "    .dataframe tbody tr th {\n",
       "        vertical-align: top;\n",
       "    }\n",
       "\n",
       "    .dataframe thead th {\n",
       "        text-align: right;\n",
       "    }\n",
       "</style>\n",
       "<table border=\"1\" class=\"dataframe\">\n",
       "  <thead>\n",
       "    <tr style=\"text-align: right;\">\n",
       "      <th></th>\n",
       "      <th>ip</th>\n",
       "      <th>app</th>\n",
       "      <th>device</th>\n",
       "      <th>os</th>\n",
       "      <th>channel</th>\n",
       "      <th>click_time</th>\n",
       "      <th>is_attributed</th>\n",
       "      <th>hour</th>\n",
       "      <th>day</th>\n",
       "      <th>ip_app_channel_var_day</th>\n",
       "      <th>qty</th>\n",
       "      <th>ip_app_count</th>\n",
       "      <th>ip_app_os_count</th>\n",
       "      <th>qty_var</th>\n",
       "      <th>ip_app_os_var</th>\n",
       "      <th>ip_app_channel_mean_hour</th>\n",
       "    </tr>\n",
       "  </thead>\n",
       "  <tbody>\n",
       "    <tr>\n",
       "      <th>0</th>\n",
       "      <td>83230</td>\n",
       "      <td>3</td>\n",
       "      <td>1</td>\n",
       "      <td>13</td>\n",
       "      <td>379</td>\n",
       "      <td>2017-11-06 14:32:21</td>\n",
       "      <td>0</td>\n",
       "      <td>14</td>\n",
       "      <td>6</td>\n",
       "      <td>0.914338</td>\n",
       "      <td>1</td>\n",
       "      <td>5427</td>\n",
       "      <td>1326</td>\n",
       "      <td>7.893333</td>\n",
       "      <td>38.855403</td>\n",
       "      <td>8.619632</td>\n",
       "    </tr>\n",
       "    <tr>\n",
       "      <th>1</th>\n",
       "      <td>17357</td>\n",
       "      <td>3</td>\n",
       "      <td>1</td>\n",
       "      <td>19</td>\n",
       "      <td>379</td>\n",
       "      <td>2017-11-06 14:33:34</td>\n",
       "      <td>0</td>\n",
       "      <td>14</td>\n",
       "      <td>6</td>\n",
       "      <td>0.745750</td>\n",
       "      <td>1</td>\n",
       "      <td>5025</td>\n",
       "      <td>1380</td>\n",
       "      <td>9.618462</td>\n",
       "      <td>26.386922</td>\n",
       "      <td>8.090909</td>\n",
       "    </tr>\n",
       "    <tr>\n",
       "      <th>2</th>\n",
       "      <td>35810</td>\n",
       "      <td>3</td>\n",
       "      <td>1</td>\n",
       "      <td>13</td>\n",
       "      <td>379</td>\n",
       "      <td>2017-11-06 14:34:12</td>\n",
       "      <td>0</td>\n",
       "      <td>14</td>\n",
       "      <td>6</td>\n",
       "      <td>0.690244</td>\n",
       "      <td>1</td>\n",
       "      <td>2012</td>\n",
       "      <td>442</td>\n",
       "      <td>15.600000</td>\n",
       "      <td>34.029284</td>\n",
       "      <td>8.317073</td>\n",
       "    </tr>\n",
       "    <tr>\n",
       "      <th>3</th>\n",
       "      <td>45745</td>\n",
       "      <td>14</td>\n",
       "      <td>1</td>\n",
       "      <td>13</td>\n",
       "      <td>478</td>\n",
       "      <td>2017-11-06 14:34:52</td>\n",
       "      <td>0</td>\n",
       "      <td>14</td>\n",
       "      <td>6</td>\n",
       "      <td>0.883721</td>\n",
       "      <td>1</td>\n",
       "      <td>9474</td>\n",
       "      <td>1954</td>\n",
       "      <td>5.947712</td>\n",
       "      <td>39.259411</td>\n",
       "      <td>10.477273</td>\n",
       "    </tr>\n",
       "    <tr>\n",
       "      <th>4</th>\n",
       "      <td>161007</td>\n",
       "      <td>3</td>\n",
       "      <td>1</td>\n",
       "      <td>13</td>\n",
       "      <td>379</td>\n",
       "      <td>2017-11-06 14:35:08</td>\n",
       "      <td>0</td>\n",
       "      <td>14</td>\n",
       "      <td>6</td>\n",
       "      <td>0.619048</td>\n",
       "      <td>1</td>\n",
       "      <td>232</td>\n",
       "      <td>80</td>\n",
       "      <td>10.800000</td>\n",
       "      <td>37.221361</td>\n",
       "      <td>11.428571</td>\n",
       "    </tr>\n",
       "  </tbody>\n",
       "</table>\n",
       "</div>"
      ],
      "text/plain": [
       "       ip  app  device  os  channel          click_time  is_attributed  hour  \\\n",
       "0   83230    3       1  13      379 2017-11-06 14:32:21              0    14   \n",
       "1   17357    3       1  19      379 2017-11-06 14:33:34              0    14   \n",
       "2   35810    3       1  13      379 2017-11-06 14:34:12              0    14   \n",
       "3   45745   14       1  13      478 2017-11-06 14:34:52              0    14   \n",
       "4  161007    3       1  13      379 2017-11-06 14:35:08              0    14   \n",
       "\n",
       "   day  ip_app_channel_var_day  qty  ip_app_count  ip_app_os_count    qty_var  \\\n",
       "0    6                0.914338    1          5427             1326   7.893333   \n",
       "1    6                0.745750    1          5025             1380   9.618462   \n",
       "2    6                0.690244    1          2012              442  15.600000   \n",
       "3    6                0.883721    1          9474             1954   5.947712   \n",
       "4    6                0.619048    1           232               80  10.800000   \n",
       "\n",
       "   ip_app_os_var  ip_app_channel_mean_hour  \n",
       "0      38.855403                  8.619632  \n",
       "1      26.386922                  8.090909  \n",
       "2      34.029284                  8.317073  \n",
       "3      39.259411                 10.477273  \n",
       "4      37.221361                 11.428571  "
      ]
     },
     "execution_count": 10,
     "metadata": {},
     "output_type": "execute_result"
    }
   ],
   "source": [
    "orig_data.head()"
   ]
  },
  {
   "cell_type": "code",
   "execution_count": null,
   "id": "8b5f1a10",
   "metadata": {},
   "outputs": [],
   "source": []
  }
 ],
 "metadata": {
  "kernelspec": {
   "display_name": "Python [conda env:mlcpuv1]",
   "language": "python",
   "name": "conda-env-mlcpuv1-py"
  },
  "language_info": {
   "codemirror_mode": {
    "name": "ipython",
    "version": 3
   },
   "file_extension": ".py",
   "mimetype": "text/x-python",
   "name": "python",
   "nbconvert_exporter": "python",
   "pygments_lexer": "ipython3",
   "version": "3.6.11"
  }
 },
 "nbformat": 4,
 "nbformat_minor": 5
}
