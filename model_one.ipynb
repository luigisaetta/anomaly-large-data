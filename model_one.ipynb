{
 "cells": [
  {
   "cell_type": "code",
   "execution_count": 1,
   "id": "5546b97b",
   "metadata": {},
   "outputs": [],
   "source": [
    "import gc\n",
    "\n",
    "import pandas as pd\n",
    "import numpy as np\n",
    "from imblearn.under_sampling import RandomUnderSampler\n",
    "from sklearn.preprocessing import LabelEncoder\n",
    "\n",
    "import lightgbm as lgb"
   ]
  },
  {
   "cell_type": "markdown",
   "id": "70318e8e",
   "metadata": {},
   "source": [
    "### leggiamo l'intero LARGE dataset, augmented, dal file in formato Feather"
   ]
  },
  {
   "cell_type": "code",
   "execution_count": 2,
   "id": "5219ff1a",
   "metadata": {},
   "outputs": [],
   "source": [
    "cols = ['ip', 'app', 'device', 'os', 'channel', 'click_time', 'is_attributed']\n",
    "\n",
    "dtypes = {\n",
    "        'ip'            : 'uint32',\n",
    "        'app'           : 'uint16',\n",
    "        'device'        : 'uint16',\n",
    "        'os'            : 'uint16',\n",
    "        'channel'       : 'uint16',\n",
    "        'is_attributed' : 'uint8',\n",
    "        }"
   ]
  },
  {
   "cell_type": "code",
   "execution_count": 3,
   "id": "04bc31d8",
   "metadata": {},
   "outputs": [],
   "source": [
    "# adding new features\n",
    "\n",
    "def add_new_features(df):\n",
    "    df['click_time'] = pd.to_datetime(df['click_time'])\n",
    "    df['hour'] = pd.to_datetime(df.click_time).dt.hour.astype('uint8')\n",
    "    df['day'] = pd.to_datetime(df.click_time).dt.day.astype('uint8')\n",
    "    \n",
    "    print('group by : ip_app_channel_var_day')\n",
    "    gp = df[['ip','app', 'channel', 'day']].groupby(by=['ip', 'app', 'channel'])[['day']].var().reset_index().rename(index=str, columns={'day': 'ip_app_channel_var_day'})\n",
    "    df = df.merge(gp, on=['ip','app', 'channel'], how='left')\n",
    "    del gp\n",
    "    gc.collect()\n",
    "    \n",
    "    print('group by : ip_day_hour_count_chl')\n",
    "    gp = df[['ip','day','hour','channel']].groupby(by=['ip','day','hour'])[['channel']].count().reset_index().rename(index=str, columns={'channel': 'qty'})\n",
    "    df = df.merge(gp, on=['ip','day','hour'], how='left')\n",
    "    del gp\n",
    "    gc.collect()\n",
    "    \n",
    "    print('group by : ip_app_count_chl')\n",
    "    gp = df[['ip','app', 'channel']].groupby(by=['ip', 'app'])[['channel']].count().reset_index().rename(index=str, columns={'channel': 'ip_app_count'})\n",
    "    df = df.merge(gp, on=['ip','app'], how='left')\n",
    "    del gp\n",
    "    gc.collect()\n",
    "    \n",
    "    print('group by : ip_app_os_count_chl')\n",
    "    gp = df[['ip','app', 'os', 'channel']].groupby(by=['ip', 'app', 'os'])[['channel']].count().reset_index().rename(index=str, columns={'channel': 'ip_app_os_count'})\n",
    "    df = df.merge(gp, on=['ip','app', 'os'], how='left')\n",
    "    del gp\n",
    "    gc.collect()\n",
    "    \n",
    "    print('group by : ip_day_chl_var_hour')\n",
    "    gp = df[['ip','day','hour','channel']].groupby(by=['ip','day','channel'])[['hour']].var().reset_index().rename(index=str, columns={'hour': 'qty_var'})\n",
    "    df = df.merge(gp, on=['ip','day','channel'], how='left')\n",
    "    del gp\n",
    "    gc.collect()\n",
    "    \n",
    "    print('group by : ip_app_os_var_hour')\n",
    "    gp = df[['ip','app', 'os', 'hour']].groupby(by=['ip', 'app', 'os'])[['hour']].var().reset_index().rename(index=str, columns={'hour': 'ip_app_os_var'})\n",
    "    df = df.merge(gp, on=['ip','app', 'os'], how='left')\n",
    "    del gp\n",
    "    gc.collect()\n",
    "    \n",
    "    print('group by : ip_app_chl_mean_hour')\n",
    "    gp = df[['ip','app', 'channel','hour']].groupby(by=['ip', 'app', 'channel'])[['hour']].mean().reset_index().rename(index=str, columns={'hour': 'ip_app_channel_mean_hour'})\n",
    "    df = df.merge(gp, on=['ip','app', 'channel'], how='left')\n",
    "    del gp\n",
    "    gc.collect()\n",
    "    \n",
    "    return df"
   ]
  },
  {
   "cell_type": "code",
   "execution_count": 4,
   "id": "64136075",
   "metadata": {},
   "outputs": [],
   "source": [
    "# RESTART POINT\n",
    "\n",
    "orig_train = pd.read_feather(\"train_augmented.fea\")"
   ]
  },
  {
   "cell_type": "code",
   "execution_count": 5,
   "id": "79939ff0",
   "metadata": {},
   "outputs": [
    {
     "name": "stdout",
     "output_type": "stream",
     "text": [
      "<class 'pandas.core.frame.DataFrame'>\n",
      "RangeIndex: 184903890 entries, 0 to 184903889\n",
      "Data columns (total 16 columns):\n",
      " #   Column                    Dtype         \n",
      "---  ------                    -----         \n",
      " 0   ip                        uint32        \n",
      " 1   app                       uint16        \n",
      " 2   device                    uint16        \n",
      " 3   os                        uint16        \n",
      " 4   channel                   uint16        \n",
      " 5   click_time                datetime64[ns]\n",
      " 6   is_attributed             uint8         \n",
      " 7   hour                      uint8         \n",
      " 8   day                       uint8         \n",
      " 9   ip_app_channel_var_day    float64       \n",
      " 10  qty                       uint16        \n",
      " 11  ip_app_count              uint16        \n",
      " 12  ip_app_os_count           uint16        \n",
      " 13  qty_var                   float64       \n",
      " 14  ip_app_os_var             float64       \n",
      " 15  ip_app_channel_mean_hour  float64       \n",
      "dtypes: datetime64[ns](1), float64(4), uint16(7), uint32(1), uint8(3)\n",
      "memory usage: 10.5 GB\n"
     ]
    }
   ],
   "source": [
    "orig_train.info()"
   ]
  },
  {
   "cell_type": "markdown",
   "id": "24904926",
   "metadata": {},
   "source": [
    "* il dataset è estremamente sbilanciato... andrebbe fatto downsampling della classe 0\n",
    "* il downsampling lo faccio dopo lo split train validation"
   ]
  },
  {
   "cell_type": "code",
   "execution_count": 6,
   "id": "a41ef022",
   "metadata": {},
   "outputs": [
    {
     "name": "stdout",
     "output_type": "stream",
     "text": [
      "Original training samples: 181205812\n",
      "Num. validation samples: 3698078\n"
     ]
    }
   ],
   "source": [
    "TARGET = 'is_attributed'\n",
    "\n",
    "# train, validation split\n",
    "TRAIN_FRAC = 0.98\n",
    "\n",
    "N_TRAIN = int(orig_train.shape[0] * TRAIN_FRAC)\n",
    "\n",
    "# shuffle\n",
    "orig_train = orig_train.sample(frac=1.)\n",
    "\n",
    "df_train = orig_train[:N_TRAIN]\n",
    "df_valid = orig_train[N_TRAIN:]\n",
    "\n",
    "print('Original training samples:', df_train.shape[0])\n",
    "print('Num. validation samples:', df_valid.shape[0])"
   ]
  },
  {
   "cell_type": "code",
   "execution_count": 7,
   "id": "1d87e9d9",
   "metadata": {},
   "outputs": [
    {
     "data": {
      "text/plain": [
       "Index(['ip', 'app', 'device', 'os', 'channel', 'click_time', 'is_attributed',\n",
       "       'hour', 'day', 'ip_app_channel_var_day', 'qty', 'ip_app_count',\n",
       "       'ip_app_os_count', 'qty_var', 'ip_app_os_var',\n",
       "       'ip_app_channel_mean_hour'],\n",
       "      dtype='object')"
      ]
     },
     "execution_count": 7,
     "metadata": {},
     "output_type": "execute_result"
    }
   ],
   "source": [
    "orig_train.columns"
   ]
  },
  {
   "cell_type": "code",
   "execution_count": 8,
   "id": "94fe84e8",
   "metadata": {},
   "outputs": [],
   "source": [
    "# rebalance\n",
    "\n",
    "# removed ip because it is high card\n",
    "feat = ['ip', 'app', 'device', 'os', 'channel',\n",
    "       'hour', 'day', 'ip_app_channel_var_day', 'qty', 'ip_app_count',\n",
    "       'qty_var', 'ip_app_os_count', 'ip_app_os_var',\n",
    "       'ip_app_channel_mean_hour']\n",
    "cat_feat = ['app', 'device', 'os', 'channel']\n",
    "\n",
    "x_train = df_train[feat]\n",
    "y_train = df_train[TARGET]\n",
    "\n",
    "x_valid = df_valid[feat]\n",
    "y_valid = df_valid[TARGET]\n",
    "\n",
    "rus = RandomUnderSampler(random_state=0)\n",
    "\n",
    "x_train_resampled, y_train_resampled = rus.fit_resample(x_train, y_train)"
   ]
  },
  {
   "cell_type": "code",
   "execution_count": 9,
   "id": "ca9ef816",
   "metadata": {},
   "outputs": [
    {
     "name": "stderr",
     "output_type": "stream",
     "text": [
      "/home/datascience/conda/mlcpuv1/lib/python3.6/site-packages/lightgbm/engine.py:153: UserWarning: Found `early_stopping_rounds` in params. Will use it instead of argument\n",
      "  warnings.warn(\"Found `{}` in params. Will use it instead of argument\".format(alias))\n",
      "/home/datascience/conda/mlcpuv1/lib/python3.6/site-packages/lightgbm/basic.py:1295: UserWarning: categorical_feature in Dataset is overridden.\n",
      "New categorical_feature is ['app', 'channel', 'device', 'os']\n",
      "  'New categorical_feature is {}'.format(sorted(list(categorical_feature))))\n"
     ]
    },
    {
     "name": "stdout",
     "output_type": "stream",
     "text": [
      "[1]\tvalid_0's auc: 0.962694\tvalid_0's binary_logloss: 0.620388\n",
      "Training until validation scores don't improve for 10 rounds\n",
      "[2]\tvalid_0's auc: 0.963872\tvalid_0's binary_logloss: 0.56018\n",
      "[3]\tvalid_0's auc: 0.964093\tvalid_0's binary_logloss: 0.509483\n",
      "[4]\tvalid_0's auc: 0.964249\tvalid_0's binary_logloss: 0.466418\n",
      "[5]\tvalid_0's auc: 0.964368\tvalid_0's binary_logloss: 0.429487\n",
      "[6]\tvalid_0's auc: 0.965517\tvalid_0's binary_logloss: 0.397571\n",
      "[7]\tvalid_0's auc: 0.966092\tvalid_0's binary_logloss: 0.369962\n",
      "[8]\tvalid_0's auc: 0.966371\tvalid_0's binary_logloss: 0.345876\n",
      "[9]\tvalid_0's auc: 0.96658\tvalid_0's binary_logloss: 0.324764\n",
      "[10]\tvalid_0's auc: 0.966879\tvalid_0's binary_logloss: 0.306269\n",
      "[11]\tvalid_0's auc: 0.96713\tvalid_0's binary_logloss: 0.289924\n",
      "[12]\tvalid_0's auc: 0.967262\tvalid_0's binary_logloss: 0.27555\n",
      "[13]\tvalid_0's auc: 0.967749\tvalid_0's binary_logloss: 0.262635\n",
      "[14]\tvalid_0's auc: 0.967863\tvalid_0's binary_logloss: 0.251228\n",
      "[15]\tvalid_0's auc: 0.967912\tvalid_0's binary_logloss: 0.241081\n",
      "[16]\tvalid_0's auc: 0.968128\tvalid_0's binary_logloss: 0.232085\n",
      "[17]\tvalid_0's auc: 0.968235\tvalid_0's binary_logloss: 0.224075\n",
      "[18]\tvalid_0's auc: 0.968516\tvalid_0's binary_logloss: 0.216876\n",
      "[19]\tvalid_0's auc: 0.968671\tvalid_0's binary_logloss: 0.210443\n",
      "[20]\tvalid_0's auc: 0.968791\tvalid_0's binary_logloss: 0.204674\n",
      "[21]\tvalid_0's auc: 0.968873\tvalid_0's binary_logloss: 0.199536\n",
      "[22]\tvalid_0's auc: 0.969105\tvalid_0's binary_logloss: 0.194884\n",
      "[23]\tvalid_0's auc: 0.969229\tvalid_0's binary_logloss: 0.190743\n",
      "[24]\tvalid_0's auc: 0.969306\tvalid_0's binary_logloss: 0.187029\n",
      "[25]\tvalid_0's auc: 0.969702\tvalid_0's binary_logloss: 0.183583\n",
      "[26]\tvalid_0's auc: 0.969868\tvalid_0's binary_logloss: 0.180492\n",
      "[27]\tvalid_0's auc: 0.970006\tvalid_0's binary_logloss: 0.177724\n",
      "[28]\tvalid_0's auc: 0.970077\tvalid_0's binary_logloss: 0.175234\n",
      "[29]\tvalid_0's auc: 0.97017\tvalid_0's binary_logloss: 0.173081\n",
      "[30]\tvalid_0's auc: 0.970241\tvalid_0's binary_logloss: 0.171123\n",
      "[31]\tvalid_0's auc: 0.970339\tvalid_0's binary_logloss: 0.169388\n",
      "[32]\tvalid_0's auc: 0.970495\tvalid_0's binary_logloss: 0.16782\n",
      "[33]\tvalid_0's auc: 0.970641\tvalid_0's binary_logloss: 0.166401\n",
      "[34]\tvalid_0's auc: 0.970819\tvalid_0's binary_logloss: 0.165012\n",
      "[35]\tvalid_0's auc: 0.971\tvalid_0's binary_logloss: 0.163838\n",
      "[36]\tvalid_0's auc: 0.971126\tvalid_0's binary_logloss: 0.162761\n",
      "[37]\tvalid_0's auc: 0.97127\tvalid_0's binary_logloss: 0.161776\n",
      "[38]\tvalid_0's auc: 0.971456\tvalid_0's binary_logloss: 0.160894\n",
      "[39]\tvalid_0's auc: 0.971612\tvalid_0's binary_logloss: 0.160127\n",
      "[40]\tvalid_0's auc: 0.971723\tvalid_0's binary_logloss: 0.159387\n",
      "[41]\tvalid_0's auc: 0.971878\tvalid_0's binary_logloss: 0.158705\n",
      "[42]\tvalid_0's auc: 0.971999\tvalid_0's binary_logloss: 0.158083\n",
      "[43]\tvalid_0's auc: 0.972117\tvalid_0's binary_logloss: 0.157534\n",
      "[44]\tvalid_0's auc: 0.972214\tvalid_0's binary_logloss: 0.156987\n",
      "[45]\tvalid_0's auc: 0.972312\tvalid_0's binary_logloss: 0.156538\n",
      "[46]\tvalid_0's auc: 0.97239\tvalid_0's binary_logloss: 0.156085\n",
      "[47]\tvalid_0's auc: 0.972454\tvalid_0's binary_logloss: 0.155674\n",
      "[48]\tvalid_0's auc: 0.972537\tvalid_0's binary_logloss: 0.155274\n",
      "[49]\tvalid_0's auc: 0.972618\tvalid_0's binary_logloss: 0.154928\n",
      "[50]\tvalid_0's auc: 0.972699\tvalid_0's binary_logloss: 0.154567\n",
      "[51]\tvalid_0's auc: 0.972777\tvalid_0's binary_logloss: 0.154258\n",
      "[52]\tvalid_0's auc: 0.972867\tvalid_0's binary_logloss: 0.153999\n",
      "[53]\tvalid_0's auc: 0.972943\tvalid_0's binary_logloss: 0.153737\n",
      "[54]\tvalid_0's auc: 0.972999\tvalid_0's binary_logloss: 0.153547\n",
      "[55]\tvalid_0's auc: 0.973068\tvalid_0's binary_logloss: 0.153338\n",
      "[56]\tvalid_0's auc: 0.973109\tvalid_0's binary_logloss: 0.153156\n",
      "[57]\tvalid_0's auc: 0.973173\tvalid_0's binary_logloss: 0.152962\n",
      "[58]\tvalid_0's auc: 0.97324\tvalid_0's binary_logloss: 0.152784\n",
      "[59]\tvalid_0's auc: 0.973279\tvalid_0's binary_logloss: 0.152642\n",
      "[60]\tvalid_0's auc: 0.973321\tvalid_0's binary_logloss: 0.152459\n",
      "[61]\tvalid_0's auc: 0.973366\tvalid_0's binary_logloss: 0.152314\n",
      "[62]\tvalid_0's auc: 0.973396\tvalid_0's binary_logloss: 0.152172\n",
      "[63]\tvalid_0's auc: 0.973432\tvalid_0's binary_logloss: 0.152057\n",
      "[64]\tvalid_0's auc: 0.973503\tvalid_0's binary_logloss: 0.151935\n",
      "[65]\tvalid_0's auc: 0.973526\tvalid_0's binary_logloss: 0.151826\n",
      "[66]\tvalid_0's auc: 0.973555\tvalid_0's binary_logloss: 0.151739\n",
      "[67]\tvalid_0's auc: 0.973593\tvalid_0's binary_logloss: 0.151611\n",
      "[68]\tvalid_0's auc: 0.973671\tvalid_0's binary_logloss: 0.151514\n",
      "[69]\tvalid_0's auc: 0.97369\tvalid_0's binary_logloss: 0.15142\n",
      "[70]\tvalid_0's auc: 0.973722\tvalid_0's binary_logloss: 0.151309\n",
      "[71]\tvalid_0's auc: 0.973735\tvalid_0's binary_logloss: 0.151227\n",
      "[72]\tvalid_0's auc: 0.973785\tvalid_0's binary_logloss: 0.151156\n",
      "[73]\tvalid_0's auc: 0.973819\tvalid_0's binary_logloss: 0.151094\n",
      "[74]\tvalid_0's auc: 0.973849\tvalid_0's binary_logloss: 0.150998\n",
      "[75]\tvalid_0's auc: 0.973898\tvalid_0's binary_logloss: 0.150908\n",
      "[76]\tvalid_0's auc: 0.97393\tvalid_0's binary_logloss: 0.150845\n",
      "[77]\tvalid_0's auc: 0.97397\tvalid_0's binary_logloss: 0.150798\n",
      "[78]\tvalid_0's auc: 0.974011\tvalid_0's binary_logloss: 0.15072\n",
      "[79]\tvalid_0's auc: 0.974031\tvalid_0's binary_logloss: 0.150645\n",
      "[80]\tvalid_0's auc: 0.974051\tvalid_0's binary_logloss: 0.150601\n",
      "[81]\tvalid_0's auc: 0.97408\tvalid_0's binary_logloss: 0.15053\n",
      "[82]\tvalid_0's auc: 0.9741\tvalid_0's binary_logloss: 0.150469\n",
      "[83]\tvalid_0's auc: 0.97407\tvalid_0's binary_logloss: 0.150414\n",
      "[84]\tvalid_0's auc: 0.974113\tvalid_0's binary_logloss: 0.150336\n",
      "[85]\tvalid_0's auc: 0.97413\tvalid_0's binary_logloss: 0.150304\n",
      "[86]\tvalid_0's auc: 0.974143\tvalid_0's binary_logloss: 0.150254\n",
      "[87]\tvalid_0's auc: 0.974167\tvalid_0's binary_logloss: 0.150226\n",
      "[88]\tvalid_0's auc: 0.974191\tvalid_0's binary_logloss: 0.150179\n",
      "[89]\tvalid_0's auc: 0.974212\tvalid_0's binary_logloss: 0.150145\n",
      "[90]\tvalid_0's auc: 0.974219\tvalid_0's binary_logloss: 0.150115\n",
      "[91]\tvalid_0's auc: 0.974229\tvalid_0's binary_logloss: 0.15007\n",
      "[92]\tvalid_0's auc: 0.974238\tvalid_0's binary_logloss: 0.150051\n",
      "[93]\tvalid_0's auc: 0.97426\tvalid_0's binary_logloss: 0.14999\n",
      "[94]\tvalid_0's auc: 0.974262\tvalid_0's binary_logloss: 0.149958\n",
      "[95]\tvalid_0's auc: 0.974276\tvalid_0's binary_logloss: 0.149932\n",
      "[96]\tvalid_0's auc: 0.974289\tvalid_0's binary_logloss: 0.149915\n",
      "[97]\tvalid_0's auc: 0.97431\tvalid_0's binary_logloss: 0.149869\n",
      "[98]\tvalid_0's auc: 0.974327\tvalid_0's binary_logloss: 0.149773\n",
      "[99]\tvalid_0's auc: 0.974355\tvalid_0's binary_logloss: 0.149717\n",
      "[100]\tvalid_0's auc: 0.974362\tvalid_0's binary_logloss: 0.149687\n",
      "[101]\tvalid_0's auc: 0.974386\tvalid_0's binary_logloss: 0.149651\n",
      "[102]\tvalid_0's auc: 0.97439\tvalid_0's binary_logloss: 0.149604\n",
      "[103]\tvalid_0's auc: 0.9744\tvalid_0's binary_logloss: 0.149583\n",
      "[104]\tvalid_0's auc: 0.974399\tvalid_0's binary_logloss: 0.149562\n",
      "[105]\tvalid_0's auc: 0.974398\tvalid_0's binary_logloss: 0.149558\n",
      "[106]\tvalid_0's auc: 0.974416\tvalid_0's binary_logloss: 0.149527\n",
      "[107]\tvalid_0's auc: 0.974432\tvalid_0's binary_logloss: 0.149464\n",
      "[108]\tvalid_0's auc: 0.974444\tvalid_0's binary_logloss: 0.149404\n",
      "[109]\tvalid_0's auc: 0.974447\tvalid_0's binary_logloss: 0.14938\n",
      "[110]\tvalid_0's auc: 0.974449\tvalid_0's binary_logloss: 0.149365\n",
      "[111]\tvalid_0's auc: 0.974464\tvalid_0's binary_logloss: 0.149326\n",
      "[112]\tvalid_0's auc: 0.974472\tvalid_0's binary_logloss: 0.149277\n",
      "[113]\tvalid_0's auc: 0.974473\tvalid_0's binary_logloss: 0.149249\n",
      "[114]\tvalid_0's auc: 0.974476\tvalid_0's binary_logloss: 0.149228\n",
      "[115]\tvalid_0's auc: 0.974487\tvalid_0's binary_logloss: 0.149218\n",
      "[116]\tvalid_0's auc: 0.974513\tvalid_0's binary_logloss: 0.14919\n",
      "[117]\tvalid_0's auc: 0.974497\tvalid_0's binary_logloss: 0.149176\n",
      "[118]\tvalid_0's auc: 0.974411\tvalid_0's binary_logloss: 0.149162\n",
      "[119]\tvalid_0's auc: 0.974411\tvalid_0's binary_logloss: 0.149175\n",
      "[120]\tvalid_0's auc: 0.97442\tvalid_0's binary_logloss: 0.149164\n",
      "[121]\tvalid_0's auc: 0.974425\tvalid_0's binary_logloss: 0.149152\n",
      "[122]\tvalid_0's auc: 0.974401\tvalid_0's binary_logloss: 0.149128\n",
      "[123]\tvalid_0's auc: 0.974418\tvalid_0's binary_logloss: 0.149117\n",
      "[124]\tvalid_0's auc: 0.974429\tvalid_0's binary_logloss: 0.149105\n",
      "[125]\tvalid_0's auc: 0.974441\tvalid_0's binary_logloss: 0.149093\n",
      "[126]\tvalid_0's auc: 0.974441\tvalid_0's binary_logloss: 0.149079\n",
      "Early stopping, best iteration is:\n",
      "[116]\tvalid_0's auc: 0.974513\tvalid_0's binary_logloss: 0.14919\n",
      "CPU times: user 2h 8min 38s, sys: 2.56 s, total: 2h 8min 40s\n",
      "Wall time: 4min 44s\n"
     ]
    }
   ],
   "source": [
    "%%time\n",
    "\n",
    "model = lgb.LGBMClassifier(objective='binary', seed=4321, n_jobs=-1, n_estimators=1000, num_leaves = 30, max_depth=15, early_stopping_rounds=10)\n",
    "\n",
    "best_model = model.fit(x_train_resampled, y_train_resampled, eval_set=[(x_valid, y_valid)], verbose=1, feature_name=feat, categorical_feature=cat_feat, eval_metric = 'auc')"
   ]
  },
  {
   "cell_type": "code",
   "execution_count": 10,
   "id": "0403a865",
   "metadata": {},
   "outputs": [
    {
     "data": {
      "image/png": "[encoded data removed]",
      "text/plain": [
       "<Figure size 648x432 with 1 Axes>"
      ]
     },
     "metadata": {
      "needs_background": "light"
     },
     "output_type": "display_data"
    }
   ],
   "source": [
    "lgb.plot_metric(model, metric='auc', figsize=(9, 6), title='validation AUC');"
   ]
  },
  {
   "cell_type": "code",
   "execution_count": 11,
   "id": "cb82ec90",
   "metadata": {},
   "outputs": [
    {
     "data": {
      "text/plain": [
       "<AxesSubplot:title={'center':'Feature importance'}, xlabel='Feature importance', ylabel='Features'>"
      ]
     },
     "execution_count": 11,
     "metadata": {},
     "output_type": "execute_result"
    },
    {
     "data": {
      "image/png": "[encoded data removed]",
      "text/plain": [
       "<Figure size 648x432 with 1 Axes>"
      ]
     },
     "metadata": {
      "needs_background": "light"
     },
     "output_type": "display_data"
    }
   ],
   "source": [
    "lgb.plot_importance(model, figsize=(9, 6), max_num_features=15)"
   ]
  },
  {
   "cell_type": "markdown",
   "id": "b10128ad",
   "metadata": {},
   "source": [
    "### Predictions on test set"
   ]
  },
  {
   "cell_type": "code",
   "execution_count": 12,
   "id": "eff3ba86",
   "metadata": {},
   "outputs": [
    {
     "name": "stdout",
     "output_type": "stream",
     "text": [
      "group by : ip_app_channel_var_day\n",
      "group by : ip_day_hour_count_chl\n",
      "group by : ip_app_count_chl\n",
      "group by : ip_app_os_count_chl\n",
      "group by : ip_day_chl_var_hour\n",
      "group by : ip_app_os_var_hour\n",
      "group by : ip_app_chl_mean_hour\n"
     ]
    }
   ],
   "source": [
    "# make predictions on test set\n",
    "orig_test = pd.read_csv('test.csv', dtype=dtypes)\n",
    "\n",
    "# do feature engineering\n",
    "orig_test = add_new_features(orig_test)"
   ]
  },
  {
   "cell_type": "code",
   "execution_count": 13,
   "id": "0eda3fd9",
   "metadata": {},
   "outputs": [
    {
     "data": {
      "text/html": [
       "<div>\n",
       "<style scoped>\n",
       "    .dataframe tbody tr th:only-of-type {\n",
       "        vertical-align: middle;\n",
       "    }\n",
       "\n",
       "    .dataframe tbody tr th {\n",
       "        vertical-align: top;\n",
       "    }\n",
       "\n",
       "    .dataframe thead th {\n",
       "        text-align: right;\n",
       "    }\n",
       "</style>\n",
       "<table border=\"1\" class=\"dataframe\">\n",
       "  <thead>\n",
       "    <tr style=\"text-align: right;\">\n",
       "      <th></th>\n",
       "      <th>click_id</th>\n",
       "      <th>ip</th>\n",
       "      <th>app</th>\n",
       "      <th>device</th>\n",
       "      <th>os</th>\n",
       "      <th>channel</th>\n",
       "      <th>click_time</th>\n",
       "      <th>hour</th>\n",
       "      <th>day</th>\n",
       "      <th>ip_app_channel_var_day</th>\n",
       "      <th>qty</th>\n",
       "      <th>ip_app_count</th>\n",
       "      <th>ip_app_os_count</th>\n",
       "      <th>qty_var</th>\n",
       "      <th>ip_app_os_var</th>\n",
       "      <th>ip_app_channel_mean_hour</th>\n",
       "    </tr>\n",
       "  </thead>\n",
       "  <tbody>\n",
       "    <tr>\n",
       "      <th>0</th>\n",
       "      <td>0</td>\n",
       "      <td>5744</td>\n",
       "      <td>9</td>\n",
       "      <td>1</td>\n",
       "      <td>3</td>\n",
       "      <td>107</td>\n",
       "      <td>2017-11-10 04:00:00</td>\n",
       "      <td>4</td>\n",
       "      <td>10</td>\n",
       "      <td>0.0</td>\n",
       "      <td>34</td>\n",
       "      <td>28</td>\n",
       "      <td>1</td>\n",
       "      <td>0.333333</td>\n",
       "      <td>NaN</td>\n",
       "      <td>4.500000</td>\n",
       "    </tr>\n",
       "    <tr>\n",
       "      <th>1</th>\n",
       "      <td>1</td>\n",
       "      <td>119901</td>\n",
       "      <td>9</td>\n",
       "      <td>1</td>\n",
       "      <td>3</td>\n",
       "      <td>466</td>\n",
       "      <td>2017-11-10 04:00:00</td>\n",
       "      <td>4</td>\n",
       "      <td>10</td>\n",
       "      <td>0.0</td>\n",
       "      <td>403</td>\n",
       "      <td>289</td>\n",
       "      <td>5</td>\n",
       "      <td>13.130156</td>\n",
       "      <td>4.700000</td>\n",
       "      <td>8.228571</td>\n",
       "    </tr>\n",
       "    <tr>\n",
       "      <th>2</th>\n",
       "      <td>2</td>\n",
       "      <td>72287</td>\n",
       "      <td>21</td>\n",
       "      <td>1</td>\n",
       "      <td>19</td>\n",
       "      <td>128</td>\n",
       "      <td>2017-11-10 04:00:00</td>\n",
       "      <td>4</td>\n",
       "      <td>10</td>\n",
       "      <td>0.0</td>\n",
       "      <td>229</td>\n",
       "      <td>312</td>\n",
       "      <td>24</td>\n",
       "      <td>10.612795</td>\n",
       "      <td>9.027174</td>\n",
       "      <td>7.969697</td>\n",
       "    </tr>\n",
       "    <tr>\n",
       "      <th>3</th>\n",
       "      <td>3</td>\n",
       "      <td>78477</td>\n",
       "      <td>15</td>\n",
       "      <td>1</td>\n",
       "      <td>13</td>\n",
       "      <td>111</td>\n",
       "      <td>2017-11-10 04:00:00</td>\n",
       "      <td>4</td>\n",
       "      <td>10</td>\n",
       "      <td>0.0</td>\n",
       "      <td>239</td>\n",
       "      <td>42</td>\n",
       "      <td>23</td>\n",
       "      <td>0.000000</td>\n",
       "      <td>15.873518</td>\n",
       "      <td>4.000000</td>\n",
       "    </tr>\n",
       "    <tr>\n",
       "      <th>4</th>\n",
       "      <td>4</td>\n",
       "      <td>123080</td>\n",
       "      <td>12</td>\n",
       "      <td>1</td>\n",
       "      <td>13</td>\n",
       "      <td>328</td>\n",
       "      <td>2017-11-10 04:00:00</td>\n",
       "      <td>4</td>\n",
       "      <td>10</td>\n",
       "      <td>0.0</td>\n",
       "      <td>60</td>\n",
       "      <td>24</td>\n",
       "      <td>7</td>\n",
       "      <td>0.000000</td>\n",
       "      <td>11.904762</td>\n",
       "      <td>4.000000</td>\n",
       "    </tr>\n",
       "  </tbody>\n",
       "</table>\n",
       "</div>"
      ],
      "text/plain": [
       "   click_id      ip  app  device  os  channel          click_time  hour  day  \\\n",
       "0         0    5744    9       1   3      107 2017-11-10 04:00:00     4   10   \n",
       "1         1  119901    9       1   3      466 2017-11-10 04:00:00     4   10   \n",
       "2         2   72287   21       1  19      128 2017-11-10 04:00:00     4   10   \n",
       "3         3   78477   15       1  13      111 2017-11-10 04:00:00     4   10   \n",
       "4         4  123080   12       1  13      328 2017-11-10 04:00:00     4   10   \n",
       "\n",
       "   ip_app_channel_var_day  qty  ip_app_count  ip_app_os_count    qty_var  \\\n",
       "0                     0.0   34            28                1   0.333333   \n",
       "1                     0.0  403           289                5  13.130156   \n",
       "2                     0.0  229           312               24  10.612795   \n",
       "3                     0.0  239            42               23   0.000000   \n",
       "4                     0.0   60            24                7   0.000000   \n",
       "\n",
       "   ip_app_os_var  ip_app_channel_mean_hour  \n",
       "0            NaN                  4.500000  \n",
       "1       4.700000                  8.228571  \n",
       "2       9.027174                  7.969697  \n",
       "3      15.873518                  4.000000  \n",
       "4      11.904762                  4.000000  "
      ]
     },
     "execution_count": 13,
     "metadata": {},
     "output_type": "execute_result"
    }
   ],
   "source": [
    "orig_test.head()"
   ]
  },
  {
   "cell_type": "code",
   "execution_count": 14,
   "id": "3c291177",
   "metadata": {},
   "outputs": [],
   "source": [
    "x_test = orig_test[feat].values\n",
    "\n",
    "y_probs = best_model.predict_proba(x_test)\n",
    "\n",
    "y_probs_pos = y_probs[:, 1] \n",
    "\n",
    "dict_sub = {}\n",
    "\n",
    "dict_sub['click_id'] = orig_test['click_id'].values\n",
    "dict_sub['is_attributed'] = y_probs_pos\n",
    "\n",
    "df_sub = pd.DataFrame(dict_sub)\n",
    "\n",
    "SUB_FILE = 'submission5.csv'\n",
    "\n",
    "df_sub.to_csv(SUB_FILE, index=None)\n",
    "\n",
    "# !kaggle competitions submit -c talkingdata-adtracking-fraud-detection -f $SUB_FILE -m \"third submission\""
   ]
  },
  {
   "cell_type": "code",
   "execution_count": null,
   "id": "9685a8b9",
   "metadata": {},
   "outputs": [],
   "source": []
  }
 ],
 "metadata": {
  "kernelspec": {
   "display_name": "Python [conda env:mlcpuv1]",
   "language": "python",
   "name": "conda-env-mlcpuv1-py"
  },
  "language_info": {
   "codemirror_mode": {
    "name": "ipython",
    "version": 3
   },
   "file_extension": ".py",
   "mimetype": "text/x-python",
   "name": "python",
   "nbconvert_exporter": "python",
   "pygments_lexer": "ipython3",
   "version": "3.6.11"
  }
 },
 "nbformat": 4,
 "nbformat_minor": 5
}
