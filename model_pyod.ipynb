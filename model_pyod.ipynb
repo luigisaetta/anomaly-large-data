{
 "cells": [
  {
   "cell_type": "markdown",
   "id": "7e3e9e2c",
   "metadata": {},
   "source": [
    "### Anomaly detection using PyOD"
   ]
  },
  {
   "cell_type": "code",
   "execution_count": 1,
   "id": "65af31e1",
   "metadata": {},
   "outputs": [],
   "source": [
    "import pandas as pd\n",
    "import numpy as np\n",
    "\n",
    "from sklearn.metrics import confusion_matrix, ConfusionMatrixDisplay\n",
    "from sklearn.metrics import roc_auc_score\n",
    "\n",
    "from imblearn.under_sampling import RandomUnderSampler\n",
    "from pyod.models.iforest import IForest"
   ]
  },
  {
   "cell_type": "code",
   "execution_count": 2,
   "id": "af07d783",
   "metadata": {},
   "outputs": [],
   "source": [
    "# RESTART POINT\n",
    "\n",
    "orig_train = pd.read_parquet(\"train_augmented.parquet\")"
   ]
  },
  {
   "cell_type": "code",
   "execution_count": 3,
   "id": "017c0774",
   "metadata": {},
   "outputs": [
    {
     "data": {
      "text/html": [
       "<div>\n",
       "<style scoped>\n",
       "    .dataframe tbody tr th:only-of-type {\n",
       "        vertical-align: middle;\n",
       "    }\n",
       "\n",
       "    .dataframe tbody tr th {\n",
       "        vertical-align: top;\n",
       "    }\n",
       "\n",
       "    .dataframe thead th {\n",
       "        text-align: right;\n",
       "    }\n",
       "</style>\n",
       "<table border=\"1\" class=\"dataframe\">\n",
       "  <thead>\n",
       "    <tr style=\"text-align: right;\">\n",
       "      <th></th>\n",
       "      <th>ip</th>\n",
       "      <th>app</th>\n",
       "      <th>device</th>\n",
       "      <th>os</th>\n",
       "      <th>channel</th>\n",
       "      <th>click_time</th>\n",
       "      <th>is_attributed</th>\n",
       "      <th>hour</th>\n",
       "      <th>day</th>\n",
       "      <th>ip_app_channel_var_day</th>\n",
       "      <th>qty</th>\n",
       "      <th>ip_app_count</th>\n",
       "      <th>ip_app_os_count</th>\n",
       "      <th>qty_var</th>\n",
       "      <th>ip_app_os_var</th>\n",
       "      <th>ip_app_channel_mean_hour</th>\n",
       "    </tr>\n",
       "  </thead>\n",
       "  <tbody>\n",
       "    <tr>\n",
       "      <th>0</th>\n",
       "      <td>83230</td>\n",
       "      <td>3</td>\n",
       "      <td>1</td>\n",
       "      <td>13</td>\n",
       "      <td>379</td>\n",
       "      <td>2017-11-06 14:32:21</td>\n",
       "      <td>0</td>\n",
       "      <td>14</td>\n",
       "      <td>6</td>\n",
       "      <td>0.914338</td>\n",
       "      <td>1</td>\n",
       "      <td>5427</td>\n",
       "      <td>1326</td>\n",
       "      <td>7.893333</td>\n",
       "      <td>38.855403</td>\n",
       "      <td>8.619632</td>\n",
       "    </tr>\n",
       "    <tr>\n",
       "      <th>1</th>\n",
       "      <td>17357</td>\n",
       "      <td>3</td>\n",
       "      <td>1</td>\n",
       "      <td>19</td>\n",
       "      <td>379</td>\n",
       "      <td>2017-11-06 14:33:34</td>\n",
       "      <td>0</td>\n",
       "      <td>14</td>\n",
       "      <td>6</td>\n",
       "      <td>0.745750</td>\n",
       "      <td>1</td>\n",
       "      <td>5025</td>\n",
       "      <td>1380</td>\n",
       "      <td>9.618462</td>\n",
       "      <td>26.386922</td>\n",
       "      <td>8.090909</td>\n",
       "    </tr>\n",
       "    <tr>\n",
       "      <th>2</th>\n",
       "      <td>35810</td>\n",
       "      <td>3</td>\n",
       "      <td>1</td>\n",
       "      <td>13</td>\n",
       "      <td>379</td>\n",
       "      <td>2017-11-06 14:34:12</td>\n",
       "      <td>0</td>\n",
       "      <td>14</td>\n",
       "      <td>6</td>\n",
       "      <td>0.690244</td>\n",
       "      <td>1</td>\n",
       "      <td>2012</td>\n",
       "      <td>442</td>\n",
       "      <td>15.600000</td>\n",
       "      <td>34.029284</td>\n",
       "      <td>8.317073</td>\n",
       "    </tr>\n",
       "    <tr>\n",
       "      <th>3</th>\n",
       "      <td>45745</td>\n",
       "      <td>14</td>\n",
       "      <td>1</td>\n",
       "      <td>13</td>\n",
       "      <td>478</td>\n",
       "      <td>2017-11-06 14:34:52</td>\n",
       "      <td>0</td>\n",
       "      <td>14</td>\n",
       "      <td>6</td>\n",
       "      <td>0.883721</td>\n",
       "      <td>1</td>\n",
       "      <td>9474</td>\n",
       "      <td>1954</td>\n",
       "      <td>5.947712</td>\n",
       "      <td>39.259411</td>\n",
       "      <td>10.477273</td>\n",
       "    </tr>\n",
       "    <tr>\n",
       "      <th>4</th>\n",
       "      <td>161007</td>\n",
       "      <td>3</td>\n",
       "      <td>1</td>\n",
       "      <td>13</td>\n",
       "      <td>379</td>\n",
       "      <td>2017-11-06 14:35:08</td>\n",
       "      <td>0</td>\n",
       "      <td>14</td>\n",
       "      <td>6</td>\n",
       "      <td>0.619048</td>\n",
       "      <td>1</td>\n",
       "      <td>232</td>\n",
       "      <td>80</td>\n",
       "      <td>10.800000</td>\n",
       "      <td>37.221361</td>\n",
       "      <td>11.428571</td>\n",
       "    </tr>\n",
       "  </tbody>\n",
       "</table>\n",
       "</div>"
      ],
      "text/plain": [
       "       ip  app  device  os  channel          click_time  is_attributed  hour  \\\n",
       "0   83230    3       1  13      379 2017-11-06 14:32:21              0    14   \n",
       "1   17357    3       1  19      379 2017-11-06 14:33:34              0    14   \n",
       "2   35810    3       1  13      379 2017-11-06 14:34:12              0    14   \n",
       "3   45745   14       1  13      478 2017-11-06 14:34:52              0    14   \n",
       "4  161007    3       1  13      379 2017-11-06 14:35:08              0    14   \n",
       "\n",
       "   day  ip_app_channel_var_day  qty  ip_app_count  ip_app_os_count    qty_var  \\\n",
       "0    6                0.914338    1          5427             1326   7.893333   \n",
       "1    6                0.745750    1          5025             1380   9.618462   \n",
       "2    6                0.690244    1          2012              442  15.600000   \n",
       "3    6                0.883721    1          9474             1954   5.947712   \n",
       "4    6                0.619048    1           232               80  10.800000   \n",
       "\n",
       "   ip_app_os_var  ip_app_channel_mean_hour  \n",
       "0      38.855403                  8.619632  \n",
       "1      26.386922                  8.090909  \n",
       "2      34.029284                  8.317073  \n",
       "3      39.259411                 10.477273  \n",
       "4      37.221361                 11.428571  "
      ]
     },
     "execution_count": 3,
     "metadata": {},
     "output_type": "execute_result"
    }
   ],
   "source": [
    "orig_train.head()"
   ]
  },
  {
   "cell_type": "code",
   "execution_count": 4,
   "id": "a843b813",
   "metadata": {},
   "outputs": [
    {
     "data": {
      "text/plain": [
       "ip                                0\n",
       "app                               0\n",
       "device                            0\n",
       "os                                0\n",
       "channel                           0\n",
       "click_time                        0\n",
       "is_attributed                     0\n",
       "hour                              0\n",
       "day                               0\n",
       "ip_app_channel_var_day      3740046\n",
       "qty                               0\n",
       "ip_app_count                      0\n",
       "ip_app_os_count                   0\n",
       "qty_var                     4018896\n",
       "ip_app_os_var               8899175\n",
       "ip_app_channel_mean_hour          0\n",
       "dtype: int64"
      ]
     },
     "execution_count": 4,
     "metadata": {},
     "output_type": "execute_result"
    }
   ],
   "source": [
    "# check for NaN, important for PyOD\n",
    "orig_train.isna().sum()"
   ]
  },
  {
   "cell_type": "code",
   "execution_count": 5,
   "id": "757bfa29",
   "metadata": {},
   "outputs": [
    {
     "data": {
      "text/plain": [
       "ip                          0\n",
       "app                         0\n",
       "device                      0\n",
       "os                          0\n",
       "channel                     0\n",
       "click_time                  0\n",
       "is_attributed               0\n",
       "hour                        0\n",
       "day                         0\n",
       "ip_app_channel_var_day      0\n",
       "qty                         0\n",
       "ip_app_count                0\n",
       "ip_app_os_count             0\n",
       "qty_var                     0\n",
       "ip_app_os_var               0\n",
       "ip_app_channel_mean_hour    0\n",
       "dtype: int64"
      ]
     },
     "execution_count": 5,
     "metadata": {},
     "output_type": "execute_result"
    }
   ],
   "source": [
    "# handle NaN\n",
    "orig_train.fillna(value=0, inplace=True)\n",
    "\n",
    "orig_train.isna().sum()"
   ]
  },
  {
   "cell_type": "code",
   "execution_count": 6,
   "id": "c8b3c27f",
   "metadata": {},
   "outputs": [
    {
     "name": "stdout",
     "output_type": "stream",
     "text": [
      "Original training samples: 181205812\n",
      "Num. validation samples: 3698078\n"
     ]
    }
   ],
   "source": [
    "TARGET = 'is_attributed'\n",
    "\n",
    "# train, validation split\n",
    "TRAIN_FRAC = 0.98\n",
    "\n",
    "N_TRAIN = int(orig_train.shape[0] * TRAIN_FRAC)\n",
    "\n",
    "# shuffle\n",
    "orig_train = orig_train.sample(frac=1., random_state=12345)\n",
    "\n",
    "df_train = orig_train[:N_TRAIN]\n",
    "df_valid = orig_train[N_TRAIN:]\n",
    "\n",
    "print('Original training samples:', df_train.shape[0])\n",
    "print('Num. validation samples:', df_valid.shape[0])"
   ]
  },
  {
   "cell_type": "code",
   "execution_count": 7,
   "id": "89a1a9c2",
   "metadata": {},
   "outputs": [],
   "source": [
    "feat = ['ip', 'app', 'device', 'os', 'channel',\n",
    "       'hour', 'day', 'ip_app_channel_var_day', 'qty', 'ip_app_count',\n",
    "       'qty_var', 'ip_app_os_count', 'ip_app_os_var',\n",
    "       'ip_app_channel_mean_hour']\n",
    "\n",
    "# removed ip because it is high card\n",
    "\n",
    "cat_feat = ['app', 'device', 'os', 'channel']\n",
    "\n",
    "x_train = df_train[feat]\n",
    "y_train = df_train[TARGET]\n",
    "\n",
    "x_valid = df_valid[feat]\n",
    "y_valid = df_valid[TARGET]\n",
    "\n",
    "rus = RandomUnderSampler(random_state=0, sampling_strategy=0.1)"
   ]
  },
  {
   "cell_type": "code",
   "execution_count": 8,
   "id": "8f70efa2",
   "metadata": {},
   "outputs": [],
   "source": [
    "x_train_resampled, y_train_resampled = rus.fit_resample(x_train, y_train)"
   ]
  },
  {
   "cell_type": "code",
   "execution_count": 16,
   "id": "8763e0f3",
   "metadata": {},
   "outputs": [
    {
     "name": "stdout",
     "output_type": "stream",
     "text": [
      "Train samples after resampling: 4925756\n"
     ]
    }
   ],
   "source": [
    "# let's try with undersampling the majority class\n",
    "print('Train samples after resampling:', x_train_resampled.shape[0])"
   ]
  },
  {
   "cell_type": "code",
   "execution_count": 17,
   "id": "5f352499",
   "metadata": {},
   "outputs": [],
   "source": [
    "# provo PyOD con Isolation Forest\n",
    "clf1 = IForest(behaviour=\"new\", max_samples=500000, contamination=0.01, n_jobs=4, verbose=3, n_estimators=50)"
   ]
  },
  {
   "cell_type": "code",
   "execution_count": 18,
   "id": "0aba3521",
   "metadata": {},
   "outputs": [
    {
     "name": "stderr",
     "output_type": "stream",
     "text": [
      "[Parallel(n_jobs=4)]: Using backend ThreadingBackend with 4 concurrent workers.\n"
     ]
    },
    {
     "name": "stdout",
     "output_type": "stream",
     "text": [
      "Building estimator 1 of 13 for this parallel run (total 50)...Building estimator 1 of 13 for this parallel run (total 50)...Building estimator 1 of 12 for this parallel run (total 50)...\n",
      "\n",
      "\n",
      "Building estimator 1 of 12 for this parallel run (total 50)...\n",
      "Building estimator 2 of 13 for this parallel run (total 50)...\n",
      "Building estimator 2 of 12 for this parallel run (total 50)...\n",
      "Building estimator 2 of 13 for this parallel run (total 50)...\n",
      "Building estimator 2 of 12 for this parallel run (total 50)...\n",
      "Building estimator 3 of 13 for this parallel run (total 50)...\n",
      "Building estimator 3 of 12 for this parallel run (total 50)...\n",
      "Building estimator 3 of 12 for this parallel run (total 50)...\n",
      "Building estimator 3 of 13 for this parallel run (total 50)...\n",
      "Building estimator 4 of 13 for this parallel run (total 50)...\n",
      "Building estimator 4 of 13 for this parallel run (total 50)...\n",
      "Building estimator 4 of 12 for this parallel run (total 50)...\n",
      "Building estimator 4 of 12 for this parallel run (total 50)...\n",
      "Building estimator 5 of 13 for this parallel run (total 50)...\n",
      "Building estimator 5 of 12 for this parallel run (total 50)...\n",
      "Building estimator 5 of 13 for this parallel run (total 50)...\n",
      "Building estimator 5 of 12 for this parallel run (total 50)...\n",
      "Building estimator 6 of 13 for this parallel run (total 50)...\n",
      "Building estimator 6 of 12 for this parallel run (total 50)...\n",
      "Building estimator 6 of 13 for this parallel run (total 50)...\n",
      "Building estimator 6 of 12 for this parallel run (total 50)...\n",
      "Building estimator 7 of 13 for this parallel run (total 50)...\n",
      "Building estimator 7 of 13 for this parallel run (total 50)...\n",
      "Building estimator 7 of 12 for this parallel run (total 50)...\n",
      "Building estimator 7 of 12 for this parallel run (total 50)...\n",
      "Building estimator 8 of 13 for this parallel run (total 50)...\n",
      "Building estimator 8 of 13 for this parallel run (total 50)...\n",
      "Building estimator 8 of 12 for this parallel run (total 50)...\n",
      "Building estimator 8 of 12 for this parallel run (total 50)...\n",
      "Building estimator 9 of 13 for this parallel run (total 50)...\n",
      "Building estimator 9 of 13 for this parallel run (total 50)...\n",
      "Building estimator 9 of 12 for this parallel run (total 50)...\n",
      "Building estimator 9 of 12 for this parallel run (total 50)...\n",
      "Building estimator 10 of 13 for this parallel run (total 50)...\n",
      "Building estimator 10 of 13 for this parallel run (total 50)...\n",
      "Building estimator 10 of 12 for this parallel run (total 50)...\n",
      "Building estimator 10 of 12 for this parallel run (total 50)...\n",
      "Building estimator 11 of 13 for this parallel run (total 50)...\n",
      "Building estimator 11 of 13 for this parallel run (total 50)...\n",
      "Building estimator 11 of 12 for this parallel run (total 50)...\n",
      "Building estimator 11 of 12 for this parallel run (total 50)...\n",
      "Building estimator 12 of 13 for this parallel run (total 50)...\n",
      "Building estimator 12 of 13 for this parallel run (total 50)...\n",
      "Building estimator 12 of 12 for this parallel run (total 50)...\n",
      "Building estimator 12 of 12 for this parallel run (total 50)...\n",
      "Building estimator 13 of 13 for this parallel run (total 50)...\n",
      "Building estimator 13 of 13 for this parallel run (total 50)...\n"
     ]
    },
    {
     "name": "stderr",
     "output_type": "stream",
     "text": [
      "[Parallel(n_jobs=4)]: Done   4 out of   4 | elapsed:  2.8min finished\n"
     ]
    },
    {
     "name": "stdout",
     "output_type": "stream",
     "text": [
      "CPU times: user 2h 3min 28s, sys: 14min 48s, total: 2h 18min 17s\n",
      "Wall time: 2h 12min 33s\n"
     ]
    },
    {
     "data": {
      "text/plain": [
       "IForest(behaviour='new', bootstrap=False, contamination=0.01,\n",
       "    max_features=1.0, max_samples=500000, n_estimators=50, n_jobs=4,\n",
       "    random_state=None, verbose=3)"
      ]
     },
     "execution_count": 18,
     "metadata": {},
     "output_type": "execute_result"
    }
   ],
   "source": [
    "%%time\n",
    "\n",
    "# riprovo senza resampling\n",
    "clf1.fit(x_train)"
   ]
  },
  {
   "cell_type": "code",
   "execution_count": 19,
   "id": "d4a25769",
   "metadata": {},
   "outputs": [
    {
     "name": "stdout",
     "output_type": "stream",
     "text": [
      "IForest(behaviour='new', bootstrap=False, contamination=0.01,\n",
      "    max_features=1.0, max_samples=500000, n_estimators=50, n_jobs=4,\n",
      "    random_state=None, verbose=3)\n"
     ]
    }
   ],
   "source": [
    "print(clf1)"
   ]
  },
  {
   "cell_type": "code",
   "execution_count": 20,
   "id": "ed815bcc",
   "metadata": {},
   "outputs": [
    {
     "name": "stdout",
     "output_type": "stream",
     "text": [
      "ROC computed is: 0.759\n"
     ]
    }
   ],
   "source": [
    "# computing AUC\n",
    "\n",
    "y_pred = clf1.predict_proba(x_valid)\n",
    "y_pred = y_pred[:, 1]\n",
    "print('ROC computed is:', round(roc_auc_score(y_valid, y_pred), 4))"
   ]
  },
  {
   "cell_type": "code",
   "execution_count": 21,
   "id": "44c155b7",
   "metadata": {},
   "outputs": [
    {
     "data": {
      "image/png": "[encoded data removed]",
      "text/plain": [
       "<Figure size 432x288 with 2 Axes>"
      ]
     },
     "metadata": {
      "needs_background": "light"
     },
     "output_type": "display_data"
    }
   ],
   "source": [
    "# computing Confusion Matrix\n",
    "y_pred_label = clf1.predict(x_valid)\n",
    "cm = confusion_matrix(y_valid, y_pred_label)\n",
    "\n",
    "disp = ConfusionMatrixDisplay(confusion_matrix=cm)\n",
    "\n",
    "disp.plot();"
   ]
  },
  {
   "cell_type": "code",
   "execution_count": null,
   "id": "12dfa285",
   "metadata": {},
   "outputs": [],
   "source": []
  }
 ],
 "metadata": {
  "kernelspec": {
   "display_name": "Python [conda env:mlcpuv1]",
   "language": "python",
   "name": "conda-env-mlcpuv1-py"
  },
  "language_info": {
   "codemirror_mode": {
    "name": "ipython",
    "version": 3
   },
   "file_extension": ".py",
   "mimetype": "text/x-python",
   "name": "python",
   "nbconvert_exporter": "python",
   "pygments_lexer": "ipython3",
   "version": "3.6.11"
  }
 },
 "nbformat": 4,
 "nbformat_minor": 5
}
